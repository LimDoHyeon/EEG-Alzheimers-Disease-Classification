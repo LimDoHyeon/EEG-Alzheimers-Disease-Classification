{
 "cells": [
  {
   "cell_type": "code",
   "id": "initial_id",
   "metadata": {
    "collapsed": true,
    "ExecuteTime": {
     "end_time": "2024-11-29T06:07:59.670472Z",
     "start_time": "2024-11-29T06:07:59.135871Z"
    }
   },
   "source": [
    "from sklearn.linear_model import Lasso\n",
    "from sklearn.ensemble import RandomForestClassifier\n",
    "from sklearn.feature_selection import SelectFromModel\n",
    "from sklearn.pipeline import Pipeline\n",
    "from sklearn.model_selection import train_test_split, GridSearchCV\n",
    "from sklearn.metrics import accuracy_score, f1_score, make_scorer\n",
    "import pandas as pd\n",
    "import numpy as np\n",
    "import joblib\n",
    "import xgboost as xgb\n",
    "from xgboost import XGBClassifier"
   ],
   "outputs": [],
   "execution_count": 1
  },
  {
   "metadata": {},
   "cell_type": "markdown",
   "source": "# 2. Version2 (even NC2)",
   "id": "ccdb07397bf3f123"
  },
  {
   "metadata": {
    "ExecuteTime": {
     "end_time": "2024-11-29T06:07:59.788284Z",
     "start_time": "2024-11-29T06:07:59.672166Z"
    }
   },
   "cell_type": "code",
   "source": [
    "data2_dir = '/Users/imdohyeon/Documents/PythonWorkspace/4n/preprocessSeg/extracted/ver2(even NC)/features_ver2.csv'\n",
    "data2 = pd.read_csv(data2_dir)\n",
    "data2 = data2.sample(frac=1).reset_index(drop=True)\n",
    "\n",
    "# 데이터 나누기\n",
    "X2 = data2.drop(['label'], axis=1)\n",
    "y2 = data2['label']\n",
    "# 데이터 분할\n",
    "X2_train, X2_test, y2_train, y2_test = train_test_split(X2, y2, test_size=0.3, random_state=42)"
   ],
   "id": "f446cadc3b78cc30",
   "outputs": [],
   "execution_count": 2
  },
  {
   "metadata": {
    "ExecuteTime": {
     "end_time": "2024-11-29T06:07:59.817751Z",
     "start_time": "2024-11-29T06:07:59.789236Z"
    }
   },
   "cell_type": "code",
   "source": [
    "lasso = Lasso(alpha=0.01, max_iter=10000)\n",
    "# SelectFromModel 학습\n",
    "feature_selector = SelectFromModel(estimator=lasso)\n",
    "feature_selector.fit(X2_train, y2_train)  # Lasso 모델 학습"
   ],
   "id": "5e1c6908175658fc",
   "outputs": [
    {
     "data": {
      "text/plain": [
       "SelectFromModel(estimator=Lasso(alpha=0.01, max_iter=10000))"
      ]
     },
     "execution_count": 3,
     "metadata": {},
     "output_type": "execute_result"
    }
   ],
   "execution_count": 3
  },
  {
   "metadata": {},
   "cell_type": "markdown",
   "source": "## 2-1. L1 Regularization + RF (Grid)",
   "id": "352a154182370390"
  },
  {
   "metadata": {
    "ExecuteTime": {
     "end_time": "2024-11-29T06:08:28.941430Z",
     "start_time": "2024-11-29T06:07:59.819250Z"
    }
   },
   "cell_type": "code",
   "source": [
    "# Random Forest 모델\n",
    "rf_model = RandomForestClassifier(random_state=42)\n",
    "\n",
    "# 파이프라인 구축\n",
    "pipeline = Pipeline([\n",
    "    ('feature_selection', SelectFromModel(estimator=lasso)),\n",
    "    ('random_forest', rf_model)\n",
    "])\n",
    "\n",
    "# 하이퍼파라미터 그리드 정의\n",
    "param_grid = {\n",
    "    'feature_selection__estimator__alpha': [0.001, 0.01, 0.1, 1],  # Lasso의 alpha 값\n",
    "    'random_forest__n_estimators': [50, 100, 200],  # Random Forest의 트리 개수\n",
    "    'random_forest__max_depth': [None, 10, 20, 30]  # Random Forest의 최대 깊이\n",
    "}\n",
    "# Weighted F1 스코어 사용\n",
    "f1_scorer = make_scorer(f1_score, average='weighted')\n",
    "\n",
    "grid_search_rf_2 = GridSearchCV(pipeline, param_grid, cv=5, scoring=f1_scorer, n_jobs=-1, verbose=1)\n",
    "\n",
    "grid_search_rf_2.fit(X2_train, y2_train)"
   ],
   "id": "2bba2b8a461ed3ca",
   "outputs": [
    {
     "name": "stdout",
     "output_type": "stream",
     "text": [
      "Fitting 5 folds for each of 48 candidates, totalling 240 fits\n"
     ]
    },
    {
     "name": "stderr",
     "output_type": "stream",
     "text": [
      "/Users/imdohyeon/miniconda3/lib/python3.7/site-packages/sklearn/model_selection/_validation.py:372: FitFailedWarning: \n",
      "60 fits failed out of a total of 240.\n",
      "The score on these train-test partitions for these parameters will be set to nan.\n",
      "If these failures are not expected, you can try to debug them by setting error_score='raise'.\n",
      "\n",
      "Below are more details about the failures:\n",
      "--------------------------------------------------------------------------------\n",
      "24 fits failed with the following error:\n",
      "Traceback (most recent call last):\n",
      "  File \"/Users/imdohyeon/miniconda3/lib/python3.7/site-packages/sklearn/model_selection/_validation.py\", line 680, in _fit_and_score\n",
      "    estimator.fit(X_train, y_train, **fit_params)\n",
      "  File \"/Users/imdohyeon/miniconda3/lib/python3.7/site-packages/sklearn/pipeline.py\", line 394, in fit\n",
      "    self._final_estimator.fit(Xt, y, **fit_params_last_step)\n",
      "  File \"/Users/imdohyeon/miniconda3/lib/python3.7/site-packages/sklearn/ensemble/_forest.py\", line 328, in fit\n",
      "    X, y, multi_output=True, accept_sparse=\"csc\", dtype=DTYPE\n",
      "  File \"/Users/imdohyeon/miniconda3/lib/python3.7/site-packages/sklearn/base.py\", line 581, in _validate_data\n",
      "    X, y = check_X_y(X, y, **check_params)\n",
      "  File \"/Users/imdohyeon/miniconda3/lib/python3.7/site-packages/sklearn/utils/validation.py\", line 976, in check_X_y\n",
      "    estimator=estimator,\n",
      "  File \"/Users/imdohyeon/miniconda3/lib/python3.7/site-packages/sklearn/utils/validation.py\", line 817, in check_array\n",
      "    % (n_features, array.shape, ensure_min_features, context)\n",
      "ValueError: Found array with 0 feature(s) (shape=(3109, 0)) while a minimum of 1 is required.\n",
      "\n",
      "--------------------------------------------------------------------------------\n",
      "36 fits failed with the following error:\n",
      "Traceback (most recent call last):\n",
      "  File \"/Users/imdohyeon/miniconda3/lib/python3.7/site-packages/sklearn/model_selection/_validation.py\", line 680, in _fit_and_score\n",
      "    estimator.fit(X_train, y_train, **fit_params)\n",
      "  File \"/Users/imdohyeon/miniconda3/lib/python3.7/site-packages/sklearn/pipeline.py\", line 394, in fit\n",
      "    self._final_estimator.fit(Xt, y, **fit_params_last_step)\n",
      "  File \"/Users/imdohyeon/miniconda3/lib/python3.7/site-packages/sklearn/ensemble/_forest.py\", line 328, in fit\n",
      "    X, y, multi_output=True, accept_sparse=\"csc\", dtype=DTYPE\n",
      "  File \"/Users/imdohyeon/miniconda3/lib/python3.7/site-packages/sklearn/base.py\", line 581, in _validate_data\n",
      "    X, y = check_X_y(X, y, **check_params)\n",
      "  File \"/Users/imdohyeon/miniconda3/lib/python3.7/site-packages/sklearn/utils/validation.py\", line 976, in check_X_y\n",
      "    estimator=estimator,\n",
      "  File \"/Users/imdohyeon/miniconda3/lib/python3.7/site-packages/sklearn/utils/validation.py\", line 817, in check_array\n",
      "    % (n_features, array.shape, ensure_min_features, context)\n",
      "ValueError: Found array with 0 feature(s) (shape=(3110, 0)) while a minimum of 1 is required.\n",
      "\n",
      "  warnings.warn(some_fits_failed_message, FitFailedWarning)\n",
      "/Users/imdohyeon/miniconda3/lib/python3.7/site-packages/sklearn/model_selection/_search.py:972: UserWarning: One or more of the test scores are non-finite: [0.86909296 0.87109166 0.87191616 0.83733309 0.84219287 0.84026217\n",
      " 0.86412581 0.86656016 0.86616661 0.86938615 0.8703165  0.87143392\n",
      " 0.84309864 0.8499792  0.84920423 0.82514237 0.82880695 0.82989228\n",
      " 0.84594076 0.84965077 0.84826686 0.84336555 0.8499792  0.84945223\n",
      " 0.69341438 0.69427034 0.69943624 0.71116298 0.71483305 0.71501424\n",
      " 0.69701852 0.69980937 0.7018907  0.69474318 0.69501947 0.69924635\n",
      "        nan        nan        nan        nan        nan        nan\n",
      "        nan        nan        nan        nan        nan        nan]\n",
      "  category=UserWarning,\n"
     ]
    },
    {
     "data": {
      "text/plain": [
       "GridSearchCV(cv=5,\n",
       "             estimator=Pipeline(steps=[('feature_selection',\n",
       "                                        SelectFromModel(estimator=Lasso(alpha=0.01,\n",
       "                                                                        max_iter=10000))),\n",
       "                                       ('random_forest',\n",
       "                                        RandomForestClassifier(random_state=42))]),\n",
       "             n_jobs=-1,\n",
       "             param_grid={'feature_selection__estimator__alpha': [0.001, 0.01,\n",
       "                                                                 0.1, 1],\n",
       "                         'random_forest__max_depth': [None, 10, 20, 30],\n",
       "                         'random_forest__n_estimators': [50, 100, 200]},\n",
       "             scoring=make_scorer(f1_score, average=weighted), verbose=1)"
      ]
     },
     "execution_count": 4,
     "metadata": {},
     "output_type": "execute_result"
    }
   ],
   "execution_count": 4
  },
  {
   "metadata": {
    "ExecuteTime": {
     "end_time": "2024-11-29T06:08:28.989307Z",
     "start_time": "2024-11-29T06:08:28.944029Z"
    }
   },
   "cell_type": "code",
   "source": [
    "# 최적 파라미터 및 성능 출력\n",
    "print(\"Best Parameters:\", grid_search_rf_2.best_params_)\n",
    "print(\"Best CV Score:\", grid_search_rf_2.best_score_)\n",
    "\n",
    "# 최적 모델 로드\n",
    "best_model_rf_2 = grid_search_rf_2.best_estimator_\n",
    "\n",
    "# 테스트 세트 평가\n",
    "y_pred_2 = best_model_rf_2.predict(X2_test)\n",
    "accuracy = accuracy_score(y2_test, y_pred_2)\n",
    "f1 = f1_score(y2_test, y_pred_2, average='weighted')\n",
    "print(f\"Test Accuracy: {accuracy:.2f}\", f\"Test F1: {f1:.2f}\")"
   ],
   "id": "4521bddc8df049f5",
   "outputs": [
    {
     "name": "stdout",
     "output_type": "stream",
     "text": [
      "Best Parameters: {'feature_selection__estimator__alpha': 0.001, 'random_forest__max_depth': None, 'random_forest__n_estimators': 200}\n",
      "Best CV Score: 0.8719161560400901\n",
      "Test Accuracy: 0.88 Test F1: 0.88\n"
     ]
    }
   ],
   "execution_count": 5
  },
  {
   "metadata": {
    "ExecuteTime": {
     "end_time": "2024-11-29T06:08:29.046079Z",
     "start_time": "2024-11-29T06:08:28.990300Z"
    }
   },
   "cell_type": "code",
   "source": [
    "# 최적 모델 저장\n",
    "joblib.dump(best_model_rf_2, \"/Users/imdohyeon/Documents/PythonWorkspace/4n/model/best_l1rf_model_ver2.pkl\")\n",
    "print(\"Model saved to 'best_l1rf_model_ver2.pkl'\")"
   ],
   "id": "53cf1b83023abd43",
   "outputs": [
    {
     "name": "stdout",
     "output_type": "stream",
     "text": [
      "Model saved to 'best_l1rf_model_ver2.pkl'\n"
     ]
    }
   ],
   "execution_count": 6
  },
  {
   "metadata": {},
   "cell_type": "markdown",
   "source": "## 2-2. L1 Regularization + XGB (Grid)",
   "id": "61a203836aa6c534"
  },
  {
   "metadata": {
    "ExecuteTime": {
     "end_time": "2024-11-29T06:12:01.628415Z",
     "start_time": "2024-11-29T06:08:29.047097Z"
    }
   },
   "cell_type": "code",
   "source": [
    "# XGBoost 모델\n",
    "xgb_model = XGBClassifier(\n",
    "    objective='logloss',\n",
    "    use_label_encoder=False,\n",
    "    eval_metric='logloss'\n",
    ")\n",
    "\n",
    "# 파이프라인\n",
    "pipeline = Pipeline([\n",
    "    ('feature_selection', SelectFromModel(estimator=lasso)),\n",
    "    ('xgboost', xgb_model)\n",
    "])\n",
    "\n",
    "# Grid Search 설정\n",
    "param_grid = {\n",
    "    'feature_selection__estimator__alpha': [0.001, 0.01, 0.1],\n",
    "    'xgboost__n_estimators': [50, 100, 200],\n",
    "    'xgboost__max_depth': [3, 5, 7],\n",
    "    'xgboost__learning_rate': [0.01, 0.1, 0.3]\n",
    "}\n",
    "\n",
    "scoring = {\n",
    "    'accuracy': make_scorer(accuracy_score),\n",
    "    'f1_score': make_scorer(f1_score, average='weighted')\n",
    "}\n",
    "\n",
    "grid_search_xgb_2 = GridSearchCV(\n",
    "    pipeline,\n",
    "    param_grid,\n",
    "    cv=5,\n",
    "    scoring=scoring,\n",
    "    refit='accuracy',\n",
    "    verbose=1,\n",
    "    n_jobs=-1\n",
    ")\n",
    "\n",
    "grid_search_xgb_2.fit(X2_train, y2_train)"
   ],
   "id": "6decdb17edab1913",
   "outputs": [
    {
     "name": "stdout",
     "output_type": "stream",
     "text": [
      "Fitting 5 folds for each of 81 candidates, totalling 405 fits\n"
     ]
    },
    {
     "data": {
      "text/plain": [
       "GridSearchCV(cv=5,\n",
       "             estimator=Pipeline(steps=[('feature_selection',\n",
       "                                        SelectFromModel(estimator=Lasso(alpha=0.01,\n",
       "                                                                        max_iter=10000))),\n",
       "                                       ('xgboost',\n",
       "                                        XGBClassifier(base_score=None,\n",
       "                                                      booster=None,\n",
       "                                                      callbacks=None,\n",
       "                                                      colsample_bylevel=None,\n",
       "                                                      colsample_bynode=None,\n",
       "                                                      colsample_bytree=None,\n",
       "                                                      early_stopping_rounds=None,\n",
       "                                                      enable_categorical=False,\n",
       "                                                      eval_metric='logloss',\n",
       "                                                      gamma=None, gpu...\n",
       "                                                      random_state=None,\n",
       "                                                      reg_alpha=None, ...))]),\n",
       "             n_jobs=-1,\n",
       "             param_grid={'feature_selection__estimator__alpha': [0.001, 0.01,\n",
       "                                                                 0.1],\n",
       "                         'xgboost__learning_rate': [0.01, 0.1, 0.3],\n",
       "                         'xgboost__max_depth': [3, 5, 7],\n",
       "                         'xgboost__n_estimators': [50, 100, 200]},\n",
       "             refit='accuracy',\n",
       "             scoring={'accuracy': make_scorer(accuracy_score),\n",
       "                      'f1_score': make_scorer(f1_score, average=weighted)},\n",
       "             verbose=1)"
      ]
     },
     "execution_count": 7,
     "metadata": {},
     "output_type": "execute_result"
    }
   ],
   "execution_count": 7
  },
  {
   "metadata": {
    "ExecuteTime": {
     "end_time": "2024-11-29T06:12:01.641898Z",
     "start_time": "2024-11-29T06:12:01.629580Z"
    }
   },
   "cell_type": "code",
   "source": [
    "# 최적 파라미터 출력\n",
    "print(\"Best Parameters:\", grid_search_xgb_2.best_params_)\n",
    "\n",
    "# 테스트 데이터 평가\n",
    "y_pred_xgb_2 = grid_search_xgb_2.best_estimator_.predict(X2_test)\n",
    "print(f\"Test Accuracy: {accuracy_score(y2_test, y_pred_xgb_2):.2f}\")\n",
    "print(f\"Test F1-Score: {f1_score(y2_test, y_pred_xgb_2, average='weighted'):.2f}\")"
   ],
   "id": "a44828345d08b302",
   "outputs": [
    {
     "name": "stdout",
     "output_type": "stream",
     "text": [
      "Best Parameters: {'feature_selection__estimator__alpha': 0.001, 'xgboost__learning_rate': 0.3, 'xgboost__max_depth': 7, 'xgboost__n_estimators': 100}\n",
      "Test Accuracy: 0.90\n",
      "Test F1-Score: 0.90\n"
     ]
    }
   ],
   "execution_count": 8
  },
  {
   "metadata": {
    "ExecuteTime": {
     "end_time": "2024-11-29T06:12:01.649452Z",
     "start_time": "2024-11-29T06:12:01.642998Z"
    }
   },
   "cell_type": "code",
   "source": [
    "# 최적 모델 저장\n",
    "joblib.dump(grid_search_xgb_2.best_estimator_, \"/Users/imdohyeon/Documents/PythonWorkspace/4n/model/best_l1xgb_model_ver2.pkl\")\n",
    "print(\"Model saved to 'best_l1xgb_model_ver2.pkl'\")"
   ],
   "id": "116b470608c4f873",
   "outputs": [
    {
     "name": "stdout",
     "output_type": "stream",
     "text": [
      "Model saved to 'best_l1xgb_model_ver2.pkl'\n"
     ]
    }
   ],
   "execution_count": 9
  },
  {
   "metadata": {},
   "cell_type": "markdown",
   "source": "# 3. L1 Regularization 결과 확인",
   "id": "9bec414f5ed0bd85"
  },
  {
   "metadata": {
    "ExecuteTime": {
     "end_time": "2024-11-29T06:12:01.677468Z",
     "start_time": "2024-11-29T06:12:01.650702Z"
    }
   },
   "cell_type": "code",
   "source": [
    "# SelectFromModel 학습\n",
    "feature_selector = SelectFromModel(estimator=lasso)\n",
    "feature_selector.fit(X2_train, y2_train)  # Lasso 모델 학습\n",
    "\n",
    "# 선택된 특징 확인\n",
    "selected_features = feature_selector.get_support()  # 선택된 특징에 대한 Boolean Mask\n",
    "selected_feature_count = sum(selected_features)  # 선택된 특징 개수\n",
    "total_features = len(selected_features)  # 전체 특징 개수\n",
    "\n",
    "print(f\"선택된 특징 개수: {selected_feature_count}\")\n",
    "print(f\"전체 특징 개수: {total_features}\")\n",
    "print(f\"선택된 특징 비율: {selected_feature_count / total_features:.2%}\")"
   ],
   "id": "d5777d16e227408d",
   "outputs": [
    {
     "name": "stdout",
     "output_type": "stream",
     "text": [
      "선택된 특징 개수: 19\n",
      "전체 특징 개수: 133\n",
      "선택된 특징 비율: 14.29%\n"
     ]
    }
   ],
   "execution_count": 10
  },
  {
   "metadata": {
    "ExecuteTime": {
     "end_time": "2024-11-29T06:12:01.682095Z",
     "start_time": "2024-11-29T06:12:01.678669Z"
    }
   },
   "cell_type": "code",
   "source": "selected_features",
   "id": "68e3c1c9099369c2",
   "outputs": [
    {
     "data": {
      "text/plain": [
       "array([False,  True,  True,  True, False,  True,  True,  True, False,\n",
       "       False, False,  True,  True, False, False, False, False,  True,\n",
       "       False, False, False, False, False, False, False, False, False,\n",
       "       False, False, False, False, False, False, False, False, False,\n",
       "       False, False, False, False, False, False, False, False, False,\n",
       "       False, False, False, False, False, False, False, False, False,\n",
       "       False, False, False, False, False, False, False, False, False,\n",
       "       False, False, False, False, False, False, False, False, False,\n",
       "       False, False, False, False, False, False, False, False, False,\n",
       "       False, False, False, False, False, False, False, False, False,\n",
       "       False, False, False, False, False, False, False, False, False,\n",
       "       False, False, False, False, False, False, False, False, False,\n",
       "       False, False, False, False, False, False, False,  True,  True,\n",
       "        True,  True, False, False, False, False, False,  True,  True,\n",
       "        True,  True, False, False, False,  True,  True])"
      ]
     },
     "execution_count": 11,
     "metadata": {},
     "output_type": "execute_result"
    }
   ],
   "execution_count": 11
  },
  {
   "metadata": {},
   "cell_type": "markdown",
   "source": "- Kurtosis, Spectral entropy만 사용됨",
   "id": "58dc04bebc5ff5f3"
  },
  {
   "metadata": {},
   "cell_type": "markdown",
   "source": "# 나머지 절반 NC 데이터 테스트",
   "id": "e44c465ae3a3e825"
  },
  {
   "metadata": {},
   "cell_type": "markdown",
   "source": "## Version 2",
   "id": "91a62b5f626b86dc"
  },
  {
   "metadata": {
    "ExecuteTime": {
     "end_time": "2024-11-29T06:12:01.729690Z",
     "start_time": "2024-11-29T06:12:01.683453Z"
    }
   },
   "cell_type": "code",
   "source": [
    "new_data_dir = '/Users/imdohyeon/Documents/PythonWorkspace/4n/preprocessSeg/extracted/ver2(even NC)/features_nc2_ver2.csv'\n",
    "new_data = pd.read_csv(new_data_dir)\n",
    "new_data_X = new_data.drop(['label'], axis=1)\n",
    "new_data_y = new_data['label']"
   ],
   "id": "d790d32f1b5ba59d",
   "outputs": [],
   "execution_count": 12
  },
  {
   "metadata": {
    "ExecuteTime": {
     "end_time": "2024-11-29T06:12:01.784866Z",
     "start_time": "2024-11-29T06:12:01.730916Z"
    }
   },
   "cell_type": "code",
   "source": [
    "y_pred_rf_nc2 = grid_search_rf_2.best_estimator_.predict(new_data_X)\n",
    "y_pred_xgb_nc2 = grid_search_xgb_2.best_estimator_.predict(new_data_X)"
   ],
   "id": "f6b6d72aebd35e73",
   "outputs": [],
   "execution_count": 13
  },
  {
   "metadata": {
    "ExecuteTime": {
     "end_time": "2024-11-29T06:12:01.792859Z",
     "start_time": "2024-11-29T06:12:01.787989Z"
    }
   },
   "cell_type": "code",
   "source": [
    "acc_rf_nc2 = accuracy_score(new_data_y, y_pred_rf_nc2)\n",
    "f1_rf_nc2 = f1_score(new_data_y, y_pred_rf_nc2, average='weighted')\n",
    "\n",
    "acc_xgb_nc2 = accuracy_score(new_data_y, y_pred_xgb_nc2)\n",
    "f1_xgb_nc2 = f1_score(new_data_y, y_pred_xgb_nc2, average='weighted')\n",
    "\n",
    "print(f\"rf. Test Accuracy: {acc_rf_nc2:.2f}\", f\"Test F1: {f1_rf_nc2:.2f}\")\n",
    "print(f\"xgb. Test Accuracy: {acc_xgb_nc2:.2f}\", f\"Test F1: {f1_xgb_nc2:.2f}\")"
   ],
   "id": "5caa20f7900b7a55",
   "outputs": [
    {
     "name": "stdout",
     "output_type": "stream",
     "text": [
      "rf. Test Accuracy: 0.56 Test F1: 0.72\n",
      "xgb. Test Accuracy: 0.61 Test F1: 0.76\n"
     ]
    }
   ],
   "execution_count": 14
  },
  {
   "metadata": {
    "ExecuteTime": {
     "end_time": "2024-11-29T06:12:01.795091Z",
     "start_time": "2024-11-29T06:12:01.793688Z"
    }
   },
   "cell_type": "code",
   "source": "",
   "id": "f04b6b4f844ecdfa",
   "outputs": [],
   "execution_count": 14
  }
 ],
 "metadata": {
  "kernelspec": {
   "display_name": "Python 3",
   "language": "python",
   "name": "python3"
  },
  "language_info": {
   "codemirror_mode": {
    "name": "ipython",
    "version": 2
   },
   "file_extension": ".py",
   "mimetype": "text/x-python",
   "name": "python",
   "nbconvert_exporter": "python",
   "pygments_lexer": "ipython2",
   "version": "2.7.6"
  }
 },
 "nbformat": 4,
 "nbformat_minor": 5
}
