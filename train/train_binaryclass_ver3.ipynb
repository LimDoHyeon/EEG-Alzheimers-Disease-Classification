{
 "cells": [
  {
   "cell_type": "code",
   "id": "initial_id",
   "metadata": {
    "collapsed": true,
    "ExecuteTime": {
     "end_time": "2024-11-29T06:13:12.124573Z",
     "start_time": "2024-11-29T06:13:12.119792Z"
    }
   },
   "source": [
    "from sklearn.linear_model import Lasso\n",
    "from sklearn.ensemble import RandomForestClassifier\n",
    "from sklearn.feature_selection import SelectFromModel\n",
    "from sklearn.preprocessing import MinMaxScaler\n",
    "from sklearn.pipeline import Pipeline\n",
    "from sklearn.model_selection import train_test_split, GridSearchCV\n",
    "from sklearn.metrics import accuracy_score, f1_score, make_scorer\n",
    "import pandas as pd\n",
    "import numpy as np\n",
    "import joblib"
   ],
   "outputs": [],
   "execution_count": 16
  },
  {
   "metadata": {},
   "cell_type": "markdown",
   "source": "# 1.AD vs NC",
   "id": "cc539f8bb6c96737"
  },
  {
   "metadata": {
    "ExecuteTime": {
     "end_time": "2024-11-29T06:13:12.271362Z",
     "start_time": "2024-11-29T06:13:12.172510Z"
    }
   },
   "cell_type": "code",
   "source": [
    "data_dir = '/Users/imdohyeon/Documents/PythonWorkspace/4n/preprocessSeg/extracted/ver3(binary without CSP features)/features_binary_ad_nc.csv'\n",
    "data = pd.read_csv(data_dir)"
   ],
   "id": "f8b0b6c8058fbf8b",
   "outputs": [],
   "execution_count": 17
  },
  {
   "metadata": {
    "ExecuteTime": {
     "end_time": "2024-11-29T06:13:12.286937Z",
     "start_time": "2024-11-29T06:13:12.272709Z"
    }
   },
   "cell_type": "code",
   "source": "data",
   "id": "61b4ae327b90b9e7",
   "outputs": [
    {
     "data": {
      "text/plain": [
       "      kurtosis_Fp1  kurtosis_Fp2  kurtosis_F7  kurtosis_F3  kurtosis_Fz  \\\n",
       "0        -0.418358      0.332468    -0.342700    -0.434762    -0.363083   \n",
       "1        -0.553936      0.645437    -0.499525    -0.413223    -0.233330   \n",
       "2         1.028320     -0.381386     0.390925     0.612009     0.007393   \n",
       "3         1.024712     -0.350840     0.469474     0.555023    -0.059696   \n",
       "4        -0.007232      0.071214    -0.244308    -0.243306    -0.211503   \n",
       "...            ...           ...          ...          ...          ...   \n",
       "4166     -0.400714     -0.344705     0.841186     3.154313    -0.749571   \n",
       "4167      0.196473      0.205968    -0.230757     0.297017    -0.288704   \n",
       "4168     -0.159535     -0.032668     0.049289     0.301747    -1.062893   \n",
       "4169     -0.689377     -0.455913    -0.331188    -0.298873    -1.089699   \n",
       "4170      0.520759     -0.863866     0.552183    -0.531780    -1.154494   \n",
       "\n",
       "      kurtosis_F4  kurtosis_F8  kurtosis_T7  kurtosis_C3  kurtosis_Cz  ...  \\\n",
       "0        1.541473     3.803859    -0.366574    -0.361034    -0.317023  ...   \n",
       "1        1.566611     3.691952    -0.446604    -0.195897    -0.095939  ...   \n",
       "2       -1.033033    -0.263930    -0.269617    -0.003700    -1.806611  ...   \n",
       "3       -0.864880     0.112843    -0.260772    -0.060767    -1.878602  ...   \n",
       "4       -0.158064     4.221788    -0.248971    -0.280709    -0.297559  ...   \n",
       "...           ...          ...          ...          ...          ...  ...   \n",
       "4166    -0.234422    -0.933491    -0.815349    -0.923803    -0.869718  ...   \n",
       "4167    -1.187940    -1.216336     0.340628    -1.160514    -1.294505  ...   \n",
       "4168    -0.308668    -1.548534    -0.540624    -0.500203    -1.501149  ...   \n",
       "4169    -0.470368    -0.442167    -0.021996    -0.644215    -0.376904  ...   \n",
       "4170    -1.041085     0.327634     1.383835     2.792343    -0.024874  ...   \n",
       "\n",
       "      spectral_entropy_C4  spectral_entropy_T8  spectral_entropy_P7  \\\n",
       "0                2.769378             3.243881             3.314180   \n",
       "1                3.014827             3.851837             3.643615   \n",
       "2                3.997216             3.996011             4.050526   \n",
       "3                3.781055             3.795044             3.863689   \n",
       "4                2.857713             3.287834             3.464297   \n",
       "...                   ...                  ...                  ...   \n",
       "4166             4.432919             5.570556             4.419069   \n",
       "4167             4.434355             5.380242             4.572584   \n",
       "4168             4.299190             5.376271             4.427081   \n",
       "4169             5.149351             5.042029             4.876800   \n",
       "4170             4.936179             4.914393             4.693116   \n",
       "\n",
       "      spectral_entropy_P3  spectral_entropy_Pz  spectral_entropy_P4  \\\n",
       "0                2.991150             2.867881             2.897658   \n",
       "1                3.271922             3.141803             3.162673   \n",
       "2                4.029060             4.035325             4.044881   \n",
       "3                3.835626             3.824710             3.850665   \n",
       "4                3.088678             2.997639             3.016220   \n",
       "...                   ...                  ...                  ...   \n",
       "4166             4.430614             4.181929             4.305306   \n",
       "4167             4.443683             4.153778             4.289267   \n",
       "4168             4.419950             4.050663             4.196556   \n",
       "4169             4.801681             5.172031             4.664239   \n",
       "4170             4.613248             4.606983             4.584890   \n",
       "\n",
       "      spectral_entropy_P8  spectral_entropy_O1  spectral_entropy_O2  label  \n",
       "0                3.226472             3.215344             3.264944      1  \n",
       "1                3.711791             3.533822             3.642025      1  \n",
       "2                4.029477             4.004199             4.097106      1  \n",
       "3                3.836143             3.776048             3.924873      1  \n",
       "4                3.331265             3.395650             3.406698      1  \n",
       "...                   ...                  ...                  ...    ...  \n",
       "4166             4.995574             4.345621             4.280138      0  \n",
       "4167             4.884699             4.500191             4.388379      0  \n",
       "4168             4.726267             4.345120             4.224140      0  \n",
       "4169             4.391314             4.659940             4.639465      0  \n",
       "4170             4.364627             4.606591             4.614083      0  \n",
       "\n",
       "[4171 rows x 134 columns]"
      ],
      "text/html": [
       "<div>\n",
       "<style scoped>\n",
       "    .dataframe tbody tr th:only-of-type {\n",
       "        vertical-align: middle;\n",
       "    }\n",
       "\n",
       "    .dataframe tbody tr th {\n",
       "        vertical-align: top;\n",
       "    }\n",
       "\n",
       "    .dataframe thead th {\n",
       "        text-align: right;\n",
       "    }\n",
       "</style>\n",
       "<table border=\"1\" class=\"dataframe\">\n",
       "  <thead>\n",
       "    <tr style=\"text-align: right;\">\n",
       "      <th></th>\n",
       "      <th>kurtosis_Fp1</th>\n",
       "      <th>kurtosis_Fp2</th>\n",
       "      <th>kurtosis_F7</th>\n",
       "      <th>kurtosis_F3</th>\n",
       "      <th>kurtosis_Fz</th>\n",
       "      <th>kurtosis_F4</th>\n",
       "      <th>kurtosis_F8</th>\n",
       "      <th>kurtosis_T7</th>\n",
       "      <th>kurtosis_C3</th>\n",
       "      <th>kurtosis_Cz</th>\n",
       "      <th>...</th>\n",
       "      <th>spectral_entropy_C4</th>\n",
       "      <th>spectral_entropy_T8</th>\n",
       "      <th>spectral_entropy_P7</th>\n",
       "      <th>spectral_entropy_P3</th>\n",
       "      <th>spectral_entropy_Pz</th>\n",
       "      <th>spectral_entropy_P4</th>\n",
       "      <th>spectral_entropy_P8</th>\n",
       "      <th>spectral_entropy_O1</th>\n",
       "      <th>spectral_entropy_O2</th>\n",
       "      <th>label</th>\n",
       "    </tr>\n",
       "  </thead>\n",
       "  <tbody>\n",
       "    <tr>\n",
       "      <th>0</th>\n",
       "      <td>-0.418358</td>\n",
       "      <td>0.332468</td>\n",
       "      <td>-0.342700</td>\n",
       "      <td>-0.434762</td>\n",
       "      <td>-0.363083</td>\n",
       "      <td>1.541473</td>\n",
       "      <td>3.803859</td>\n",
       "      <td>-0.366574</td>\n",
       "      <td>-0.361034</td>\n",
       "      <td>-0.317023</td>\n",
       "      <td>...</td>\n",
       "      <td>2.769378</td>\n",
       "      <td>3.243881</td>\n",
       "      <td>3.314180</td>\n",
       "      <td>2.991150</td>\n",
       "      <td>2.867881</td>\n",
       "      <td>2.897658</td>\n",
       "      <td>3.226472</td>\n",
       "      <td>3.215344</td>\n",
       "      <td>3.264944</td>\n",
       "      <td>1</td>\n",
       "    </tr>\n",
       "    <tr>\n",
       "      <th>1</th>\n",
       "      <td>-0.553936</td>\n",
       "      <td>0.645437</td>\n",
       "      <td>-0.499525</td>\n",
       "      <td>-0.413223</td>\n",
       "      <td>-0.233330</td>\n",
       "      <td>1.566611</td>\n",
       "      <td>3.691952</td>\n",
       "      <td>-0.446604</td>\n",
       "      <td>-0.195897</td>\n",
       "      <td>-0.095939</td>\n",
       "      <td>...</td>\n",
       "      <td>3.014827</td>\n",
       "      <td>3.851837</td>\n",
       "      <td>3.643615</td>\n",
       "      <td>3.271922</td>\n",
       "      <td>3.141803</td>\n",
       "      <td>3.162673</td>\n",
       "      <td>3.711791</td>\n",
       "      <td>3.533822</td>\n",
       "      <td>3.642025</td>\n",
       "      <td>1</td>\n",
       "    </tr>\n",
       "    <tr>\n",
       "      <th>2</th>\n",
       "      <td>1.028320</td>\n",
       "      <td>-0.381386</td>\n",
       "      <td>0.390925</td>\n",
       "      <td>0.612009</td>\n",
       "      <td>0.007393</td>\n",
       "      <td>-1.033033</td>\n",
       "      <td>-0.263930</td>\n",
       "      <td>-0.269617</td>\n",
       "      <td>-0.003700</td>\n",
       "      <td>-1.806611</td>\n",
       "      <td>...</td>\n",
       "      <td>3.997216</td>\n",
       "      <td>3.996011</td>\n",
       "      <td>4.050526</td>\n",
       "      <td>4.029060</td>\n",
       "      <td>4.035325</td>\n",
       "      <td>4.044881</td>\n",
       "      <td>4.029477</td>\n",
       "      <td>4.004199</td>\n",
       "      <td>4.097106</td>\n",
       "      <td>1</td>\n",
       "    </tr>\n",
       "    <tr>\n",
       "      <th>3</th>\n",
       "      <td>1.024712</td>\n",
       "      <td>-0.350840</td>\n",
       "      <td>0.469474</td>\n",
       "      <td>0.555023</td>\n",
       "      <td>-0.059696</td>\n",
       "      <td>-0.864880</td>\n",
       "      <td>0.112843</td>\n",
       "      <td>-0.260772</td>\n",
       "      <td>-0.060767</td>\n",
       "      <td>-1.878602</td>\n",
       "      <td>...</td>\n",
       "      <td>3.781055</td>\n",
       "      <td>3.795044</td>\n",
       "      <td>3.863689</td>\n",
       "      <td>3.835626</td>\n",
       "      <td>3.824710</td>\n",
       "      <td>3.850665</td>\n",
       "      <td>3.836143</td>\n",
       "      <td>3.776048</td>\n",
       "      <td>3.924873</td>\n",
       "      <td>1</td>\n",
       "    </tr>\n",
       "    <tr>\n",
       "      <th>4</th>\n",
       "      <td>-0.007232</td>\n",
       "      <td>0.071214</td>\n",
       "      <td>-0.244308</td>\n",
       "      <td>-0.243306</td>\n",
       "      <td>-0.211503</td>\n",
       "      <td>-0.158064</td>\n",
       "      <td>4.221788</td>\n",
       "      <td>-0.248971</td>\n",
       "      <td>-0.280709</td>\n",
       "      <td>-0.297559</td>\n",
       "      <td>...</td>\n",
       "      <td>2.857713</td>\n",
       "      <td>3.287834</td>\n",
       "      <td>3.464297</td>\n",
       "      <td>3.088678</td>\n",
       "      <td>2.997639</td>\n",
       "      <td>3.016220</td>\n",
       "      <td>3.331265</td>\n",
       "      <td>3.395650</td>\n",
       "      <td>3.406698</td>\n",
       "      <td>1</td>\n",
       "    </tr>\n",
       "    <tr>\n",
       "      <th>...</th>\n",
       "      <td>...</td>\n",
       "      <td>...</td>\n",
       "      <td>...</td>\n",
       "      <td>...</td>\n",
       "      <td>...</td>\n",
       "      <td>...</td>\n",
       "      <td>...</td>\n",
       "      <td>...</td>\n",
       "      <td>...</td>\n",
       "      <td>...</td>\n",
       "      <td>...</td>\n",
       "      <td>...</td>\n",
       "      <td>...</td>\n",
       "      <td>...</td>\n",
       "      <td>...</td>\n",
       "      <td>...</td>\n",
       "      <td>...</td>\n",
       "      <td>...</td>\n",
       "      <td>...</td>\n",
       "      <td>...</td>\n",
       "      <td>...</td>\n",
       "    </tr>\n",
       "    <tr>\n",
       "      <th>4166</th>\n",
       "      <td>-0.400714</td>\n",
       "      <td>-0.344705</td>\n",
       "      <td>0.841186</td>\n",
       "      <td>3.154313</td>\n",
       "      <td>-0.749571</td>\n",
       "      <td>-0.234422</td>\n",
       "      <td>-0.933491</td>\n",
       "      <td>-0.815349</td>\n",
       "      <td>-0.923803</td>\n",
       "      <td>-0.869718</td>\n",
       "      <td>...</td>\n",
       "      <td>4.432919</td>\n",
       "      <td>5.570556</td>\n",
       "      <td>4.419069</td>\n",
       "      <td>4.430614</td>\n",
       "      <td>4.181929</td>\n",
       "      <td>4.305306</td>\n",
       "      <td>4.995574</td>\n",
       "      <td>4.345621</td>\n",
       "      <td>4.280138</td>\n",
       "      <td>0</td>\n",
       "    </tr>\n",
       "    <tr>\n",
       "      <th>4167</th>\n",
       "      <td>0.196473</td>\n",
       "      <td>0.205968</td>\n",
       "      <td>-0.230757</td>\n",
       "      <td>0.297017</td>\n",
       "      <td>-0.288704</td>\n",
       "      <td>-1.187940</td>\n",
       "      <td>-1.216336</td>\n",
       "      <td>0.340628</td>\n",
       "      <td>-1.160514</td>\n",
       "      <td>-1.294505</td>\n",
       "      <td>...</td>\n",
       "      <td>4.434355</td>\n",
       "      <td>5.380242</td>\n",
       "      <td>4.572584</td>\n",
       "      <td>4.443683</td>\n",
       "      <td>4.153778</td>\n",
       "      <td>4.289267</td>\n",
       "      <td>4.884699</td>\n",
       "      <td>4.500191</td>\n",
       "      <td>4.388379</td>\n",
       "      <td>0</td>\n",
       "    </tr>\n",
       "    <tr>\n",
       "      <th>4168</th>\n",
       "      <td>-0.159535</td>\n",
       "      <td>-0.032668</td>\n",
       "      <td>0.049289</td>\n",
       "      <td>0.301747</td>\n",
       "      <td>-1.062893</td>\n",
       "      <td>-0.308668</td>\n",
       "      <td>-1.548534</td>\n",
       "      <td>-0.540624</td>\n",
       "      <td>-0.500203</td>\n",
       "      <td>-1.501149</td>\n",
       "      <td>...</td>\n",
       "      <td>4.299190</td>\n",
       "      <td>5.376271</td>\n",
       "      <td>4.427081</td>\n",
       "      <td>4.419950</td>\n",
       "      <td>4.050663</td>\n",
       "      <td>4.196556</td>\n",
       "      <td>4.726267</td>\n",
       "      <td>4.345120</td>\n",
       "      <td>4.224140</td>\n",
       "      <td>0</td>\n",
       "    </tr>\n",
       "    <tr>\n",
       "      <th>4169</th>\n",
       "      <td>-0.689377</td>\n",
       "      <td>-0.455913</td>\n",
       "      <td>-0.331188</td>\n",
       "      <td>-0.298873</td>\n",
       "      <td>-1.089699</td>\n",
       "      <td>-0.470368</td>\n",
       "      <td>-0.442167</td>\n",
       "      <td>-0.021996</td>\n",
       "      <td>-0.644215</td>\n",
       "      <td>-0.376904</td>\n",
       "      <td>...</td>\n",
       "      <td>5.149351</td>\n",
       "      <td>5.042029</td>\n",
       "      <td>4.876800</td>\n",
       "      <td>4.801681</td>\n",
       "      <td>5.172031</td>\n",
       "      <td>4.664239</td>\n",
       "      <td>4.391314</td>\n",
       "      <td>4.659940</td>\n",
       "      <td>4.639465</td>\n",
       "      <td>0</td>\n",
       "    </tr>\n",
       "    <tr>\n",
       "      <th>4170</th>\n",
       "      <td>0.520759</td>\n",
       "      <td>-0.863866</td>\n",
       "      <td>0.552183</td>\n",
       "      <td>-0.531780</td>\n",
       "      <td>-1.154494</td>\n",
       "      <td>-1.041085</td>\n",
       "      <td>0.327634</td>\n",
       "      <td>1.383835</td>\n",
       "      <td>2.792343</td>\n",
       "      <td>-0.024874</td>\n",
       "      <td>...</td>\n",
       "      <td>4.936179</td>\n",
       "      <td>4.914393</td>\n",
       "      <td>4.693116</td>\n",
       "      <td>4.613248</td>\n",
       "      <td>4.606983</td>\n",
       "      <td>4.584890</td>\n",
       "      <td>4.364627</td>\n",
       "      <td>4.606591</td>\n",
       "      <td>4.614083</td>\n",
       "      <td>0</td>\n",
       "    </tr>\n",
       "  </tbody>\n",
       "</table>\n",
       "<p>4171 rows × 134 columns</p>\n",
       "</div>"
      ]
     },
     "execution_count": 18,
     "metadata": {},
     "output_type": "execute_result"
    }
   ],
   "execution_count": 18
  },
  {
   "metadata": {},
   "cell_type": "markdown",
   "source": "- Multi class에서 L1 정규화 적용 시 모든 주파수 도메인 피처를 제거하였음. 주파수 도메인 피처보다 다른 피처가 더 중요하다고 판단되어, 주파수 도메인 피처는 추출하지 않고 진행. ",
   "id": "5df21de881f64669"
  },
  {
   "metadata": {
    "ExecuteTime": {
     "end_time": "2024-11-29T06:13:12.303968Z",
     "start_time": "2024-11-29T06:13:12.288044Z"
    }
   },
   "cell_type": "code",
   "source": [
    "# 데이터 셔플\n",
    "data = data.sample(frac=1).reset_index(drop=True)\n",
    "data"
   ],
   "id": "9bc705ea03700711",
   "outputs": [
    {
     "data": {
      "text/plain": [
       "      kurtosis_Fp1  kurtosis_Fp2  kurtosis_F7  kurtosis_F3  kurtosis_Fz  \\\n",
       "0        -0.527302      1.181890    -0.177920    -1.510379    -1.721818   \n",
       "1        -0.468375     -0.432942     4.190411    -0.413157    -0.419468   \n",
       "2         1.155203      2.960920    -0.654380    -0.680629     0.715378   \n",
       "3        -0.458505     -0.057117    -0.571557     0.897342    -0.380009   \n",
       "4         0.885077     -0.758681     1.312403     0.888432     0.160801   \n",
       "...            ...           ...          ...          ...          ...   \n",
       "4166     -0.327192      2.271211    -0.791755    -0.482616     3.058097   \n",
       "4167      0.449526     -1.075555    -0.109794     1.304127     0.394536   \n",
       "4168      0.834975      0.469620     0.346890     0.857451     1.459243   \n",
       "4169     -0.577184     -2.773130    -2.097057    -0.784321    -0.416779   \n",
       "4170     -0.136459      0.030252    -0.250585    -0.180136     0.694858   \n",
       "\n",
       "      kurtosis_F4  kurtosis_F8  kurtosis_T7  kurtosis_C3  kurtosis_Cz  ...  \\\n",
       "0        0.183468     2.225843    -0.098798    -0.460286     1.256587  ...   \n",
       "1       -0.377227    -0.167427    -0.062911    -0.231348    -0.359514  ...   \n",
       "2       -0.100891    -0.459587     0.540402    -1.126710     0.803980  ...   \n",
       "3       -0.678935    -0.295140     0.287175    -1.357305    -0.316765  ...   \n",
       "4       -1.528173    -2.169484     1.452818     1.207978     0.920795  ...   \n",
       "...           ...          ...          ...          ...          ...  ...   \n",
       "4166     0.497249     0.265233     0.559257    -0.734394    -0.403077  ...   \n",
       "4167    -0.816568    -1.794473     0.904070     1.968371    -0.734859  ...   \n",
       "4168     1.333481     1.980542    -0.162555    -0.191750    -0.376238  ...   \n",
       "4169    -0.580253    -0.339057     0.729322     0.449912     0.670737  ...   \n",
       "4170    -0.033585    -1.092643     0.821261     1.356013     1.523721  ...   \n",
       "\n",
       "      spectral_entropy_C4  spectral_entropy_T8  spectral_entropy_P7  \\\n",
       "0                3.376487             3.640987             3.888772   \n",
       "1                4.954618             5.253048             4.804027   \n",
       "2                5.221303             5.342423             5.263270   \n",
       "3                5.183495             4.835472             4.939544   \n",
       "4                3.282496             3.301596             3.414393   \n",
       "...                   ...                  ...                  ...   \n",
       "4166             4.804701             4.785434             5.619818   \n",
       "4167             2.887299             3.010544             3.023207   \n",
       "4168             2.930830             2.971452             2.981269   \n",
       "4169             2.629997             2.662707             2.869745   \n",
       "4170             3.172929             3.398018             3.330225   \n",
       "\n",
       "      spectral_entropy_P3  spectral_entropy_Pz  spectral_entropy_P4  \\\n",
       "0                3.723262             3.659794             3.691210   \n",
       "1                5.083363             4.788634             4.848915   \n",
       "2                4.931122             4.734398             4.924445   \n",
       "3                4.640270             4.201044             4.655578   \n",
       "4                3.416504             3.434186             3.337961   \n",
       "...                   ...                  ...                  ...   \n",
       "4166             5.604437             5.005377             5.073753   \n",
       "4167             2.934649             2.916986             2.941613   \n",
       "4168             2.943016             2.939817             2.947428   \n",
       "4169             2.780360             2.716437             2.719608   \n",
       "4170             3.313447             3.200572             3.358796   \n",
       "\n",
       "      spectral_entropy_P8  spectral_entropy_O1  spectral_entropy_O2  label  \n",
       "0                3.767603             3.907507             3.948341      0  \n",
       "1                5.223115             4.668203             4.702218      0  \n",
       "2                4.999133             5.202016             4.960051      0  \n",
       "3                4.950434             4.831939             4.866074      0  \n",
       "4                3.346638             3.472277             3.465620      1  \n",
       "...                   ...                  ...                  ...    ...  \n",
       "4166             5.179712             5.800539             5.194397      0  \n",
       "4167             3.012629             3.001328             3.014647      1  \n",
       "4168             2.966581             2.951815             2.960929      1  \n",
       "4169             2.837668             2.960365             2.802560      0  \n",
       "4170             3.667890             3.333506             3.321751      1  \n",
       "\n",
       "[4171 rows x 134 columns]"
      ],
      "text/html": [
       "<div>\n",
       "<style scoped>\n",
       "    .dataframe tbody tr th:only-of-type {\n",
       "        vertical-align: middle;\n",
       "    }\n",
       "\n",
       "    .dataframe tbody tr th {\n",
       "        vertical-align: top;\n",
       "    }\n",
       "\n",
       "    .dataframe thead th {\n",
       "        text-align: right;\n",
       "    }\n",
       "</style>\n",
       "<table border=\"1\" class=\"dataframe\">\n",
       "  <thead>\n",
       "    <tr style=\"text-align: right;\">\n",
       "      <th></th>\n",
       "      <th>kurtosis_Fp1</th>\n",
       "      <th>kurtosis_Fp2</th>\n",
       "      <th>kurtosis_F7</th>\n",
       "      <th>kurtosis_F3</th>\n",
       "      <th>kurtosis_Fz</th>\n",
       "      <th>kurtosis_F4</th>\n",
       "      <th>kurtosis_F8</th>\n",
       "      <th>kurtosis_T7</th>\n",
       "      <th>kurtosis_C3</th>\n",
       "      <th>kurtosis_Cz</th>\n",
       "      <th>...</th>\n",
       "      <th>spectral_entropy_C4</th>\n",
       "      <th>spectral_entropy_T8</th>\n",
       "      <th>spectral_entropy_P7</th>\n",
       "      <th>spectral_entropy_P3</th>\n",
       "      <th>spectral_entropy_Pz</th>\n",
       "      <th>spectral_entropy_P4</th>\n",
       "      <th>spectral_entropy_P8</th>\n",
       "      <th>spectral_entropy_O1</th>\n",
       "      <th>spectral_entropy_O2</th>\n",
       "      <th>label</th>\n",
       "    </tr>\n",
       "  </thead>\n",
       "  <tbody>\n",
       "    <tr>\n",
       "      <th>0</th>\n",
       "      <td>-0.527302</td>\n",
       "      <td>1.181890</td>\n",
       "      <td>-0.177920</td>\n",
       "      <td>-1.510379</td>\n",
       "      <td>-1.721818</td>\n",
       "      <td>0.183468</td>\n",
       "      <td>2.225843</td>\n",
       "      <td>-0.098798</td>\n",
       "      <td>-0.460286</td>\n",
       "      <td>1.256587</td>\n",
       "      <td>...</td>\n",
       "      <td>3.376487</td>\n",
       "      <td>3.640987</td>\n",
       "      <td>3.888772</td>\n",
       "      <td>3.723262</td>\n",
       "      <td>3.659794</td>\n",
       "      <td>3.691210</td>\n",
       "      <td>3.767603</td>\n",
       "      <td>3.907507</td>\n",
       "      <td>3.948341</td>\n",
       "      <td>0</td>\n",
       "    </tr>\n",
       "    <tr>\n",
       "      <th>1</th>\n",
       "      <td>-0.468375</td>\n",
       "      <td>-0.432942</td>\n",
       "      <td>4.190411</td>\n",
       "      <td>-0.413157</td>\n",
       "      <td>-0.419468</td>\n",
       "      <td>-0.377227</td>\n",
       "      <td>-0.167427</td>\n",
       "      <td>-0.062911</td>\n",
       "      <td>-0.231348</td>\n",
       "      <td>-0.359514</td>\n",
       "      <td>...</td>\n",
       "      <td>4.954618</td>\n",
       "      <td>5.253048</td>\n",
       "      <td>4.804027</td>\n",
       "      <td>5.083363</td>\n",
       "      <td>4.788634</td>\n",
       "      <td>4.848915</td>\n",
       "      <td>5.223115</td>\n",
       "      <td>4.668203</td>\n",
       "      <td>4.702218</td>\n",
       "      <td>0</td>\n",
       "    </tr>\n",
       "    <tr>\n",
       "      <th>2</th>\n",
       "      <td>1.155203</td>\n",
       "      <td>2.960920</td>\n",
       "      <td>-0.654380</td>\n",
       "      <td>-0.680629</td>\n",
       "      <td>0.715378</td>\n",
       "      <td>-0.100891</td>\n",
       "      <td>-0.459587</td>\n",
       "      <td>0.540402</td>\n",
       "      <td>-1.126710</td>\n",
       "      <td>0.803980</td>\n",
       "      <td>...</td>\n",
       "      <td>5.221303</td>\n",
       "      <td>5.342423</td>\n",
       "      <td>5.263270</td>\n",
       "      <td>4.931122</td>\n",
       "      <td>4.734398</td>\n",
       "      <td>4.924445</td>\n",
       "      <td>4.999133</td>\n",
       "      <td>5.202016</td>\n",
       "      <td>4.960051</td>\n",
       "      <td>0</td>\n",
       "    </tr>\n",
       "    <tr>\n",
       "      <th>3</th>\n",
       "      <td>-0.458505</td>\n",
       "      <td>-0.057117</td>\n",
       "      <td>-0.571557</td>\n",
       "      <td>0.897342</td>\n",
       "      <td>-0.380009</td>\n",
       "      <td>-0.678935</td>\n",
       "      <td>-0.295140</td>\n",
       "      <td>0.287175</td>\n",
       "      <td>-1.357305</td>\n",
       "      <td>-0.316765</td>\n",
       "      <td>...</td>\n",
       "      <td>5.183495</td>\n",
       "      <td>4.835472</td>\n",
       "      <td>4.939544</td>\n",
       "      <td>4.640270</td>\n",
       "      <td>4.201044</td>\n",
       "      <td>4.655578</td>\n",
       "      <td>4.950434</td>\n",
       "      <td>4.831939</td>\n",
       "      <td>4.866074</td>\n",
       "      <td>0</td>\n",
       "    </tr>\n",
       "    <tr>\n",
       "      <th>4</th>\n",
       "      <td>0.885077</td>\n",
       "      <td>-0.758681</td>\n",
       "      <td>1.312403</td>\n",
       "      <td>0.888432</td>\n",
       "      <td>0.160801</td>\n",
       "      <td>-1.528173</td>\n",
       "      <td>-2.169484</td>\n",
       "      <td>1.452818</td>\n",
       "      <td>1.207978</td>\n",
       "      <td>0.920795</td>\n",
       "      <td>...</td>\n",
       "      <td>3.282496</td>\n",
       "      <td>3.301596</td>\n",
       "      <td>3.414393</td>\n",
       "      <td>3.416504</td>\n",
       "      <td>3.434186</td>\n",
       "      <td>3.337961</td>\n",
       "      <td>3.346638</td>\n",
       "      <td>3.472277</td>\n",
       "      <td>3.465620</td>\n",
       "      <td>1</td>\n",
       "    </tr>\n",
       "    <tr>\n",
       "      <th>...</th>\n",
       "      <td>...</td>\n",
       "      <td>...</td>\n",
       "      <td>...</td>\n",
       "      <td>...</td>\n",
       "      <td>...</td>\n",
       "      <td>...</td>\n",
       "      <td>...</td>\n",
       "      <td>...</td>\n",
       "      <td>...</td>\n",
       "      <td>...</td>\n",
       "      <td>...</td>\n",
       "      <td>...</td>\n",
       "      <td>...</td>\n",
       "      <td>...</td>\n",
       "      <td>...</td>\n",
       "      <td>...</td>\n",
       "      <td>...</td>\n",
       "      <td>...</td>\n",
       "      <td>...</td>\n",
       "      <td>...</td>\n",
       "      <td>...</td>\n",
       "    </tr>\n",
       "    <tr>\n",
       "      <th>4166</th>\n",
       "      <td>-0.327192</td>\n",
       "      <td>2.271211</td>\n",
       "      <td>-0.791755</td>\n",
       "      <td>-0.482616</td>\n",
       "      <td>3.058097</td>\n",
       "      <td>0.497249</td>\n",
       "      <td>0.265233</td>\n",
       "      <td>0.559257</td>\n",
       "      <td>-0.734394</td>\n",
       "      <td>-0.403077</td>\n",
       "      <td>...</td>\n",
       "      <td>4.804701</td>\n",
       "      <td>4.785434</td>\n",
       "      <td>5.619818</td>\n",
       "      <td>5.604437</td>\n",
       "      <td>5.005377</td>\n",
       "      <td>5.073753</td>\n",
       "      <td>5.179712</td>\n",
       "      <td>5.800539</td>\n",
       "      <td>5.194397</td>\n",
       "      <td>0</td>\n",
       "    </tr>\n",
       "    <tr>\n",
       "      <th>4167</th>\n",
       "      <td>0.449526</td>\n",
       "      <td>-1.075555</td>\n",
       "      <td>-0.109794</td>\n",
       "      <td>1.304127</td>\n",
       "      <td>0.394536</td>\n",
       "      <td>-0.816568</td>\n",
       "      <td>-1.794473</td>\n",
       "      <td>0.904070</td>\n",
       "      <td>1.968371</td>\n",
       "      <td>-0.734859</td>\n",
       "      <td>...</td>\n",
       "      <td>2.887299</td>\n",
       "      <td>3.010544</td>\n",
       "      <td>3.023207</td>\n",
       "      <td>2.934649</td>\n",
       "      <td>2.916986</td>\n",
       "      <td>2.941613</td>\n",
       "      <td>3.012629</td>\n",
       "      <td>3.001328</td>\n",
       "      <td>3.014647</td>\n",
       "      <td>1</td>\n",
       "    </tr>\n",
       "    <tr>\n",
       "      <th>4168</th>\n",
       "      <td>0.834975</td>\n",
       "      <td>0.469620</td>\n",
       "      <td>0.346890</td>\n",
       "      <td>0.857451</td>\n",
       "      <td>1.459243</td>\n",
       "      <td>1.333481</td>\n",
       "      <td>1.980542</td>\n",
       "      <td>-0.162555</td>\n",
       "      <td>-0.191750</td>\n",
       "      <td>-0.376238</td>\n",
       "      <td>...</td>\n",
       "      <td>2.930830</td>\n",
       "      <td>2.971452</td>\n",
       "      <td>2.981269</td>\n",
       "      <td>2.943016</td>\n",
       "      <td>2.939817</td>\n",
       "      <td>2.947428</td>\n",
       "      <td>2.966581</td>\n",
       "      <td>2.951815</td>\n",
       "      <td>2.960929</td>\n",
       "      <td>1</td>\n",
       "    </tr>\n",
       "    <tr>\n",
       "      <th>4169</th>\n",
       "      <td>-0.577184</td>\n",
       "      <td>-2.773130</td>\n",
       "      <td>-2.097057</td>\n",
       "      <td>-0.784321</td>\n",
       "      <td>-0.416779</td>\n",
       "      <td>-0.580253</td>\n",
       "      <td>-0.339057</td>\n",
       "      <td>0.729322</td>\n",
       "      <td>0.449912</td>\n",
       "      <td>0.670737</td>\n",
       "      <td>...</td>\n",
       "      <td>2.629997</td>\n",
       "      <td>2.662707</td>\n",
       "      <td>2.869745</td>\n",
       "      <td>2.780360</td>\n",
       "      <td>2.716437</td>\n",
       "      <td>2.719608</td>\n",
       "      <td>2.837668</td>\n",
       "      <td>2.960365</td>\n",
       "      <td>2.802560</td>\n",
       "      <td>0</td>\n",
       "    </tr>\n",
       "    <tr>\n",
       "      <th>4170</th>\n",
       "      <td>-0.136459</td>\n",
       "      <td>0.030252</td>\n",
       "      <td>-0.250585</td>\n",
       "      <td>-0.180136</td>\n",
       "      <td>0.694858</td>\n",
       "      <td>-0.033585</td>\n",
       "      <td>-1.092643</td>\n",
       "      <td>0.821261</td>\n",
       "      <td>1.356013</td>\n",
       "      <td>1.523721</td>\n",
       "      <td>...</td>\n",
       "      <td>3.172929</td>\n",
       "      <td>3.398018</td>\n",
       "      <td>3.330225</td>\n",
       "      <td>3.313447</td>\n",
       "      <td>3.200572</td>\n",
       "      <td>3.358796</td>\n",
       "      <td>3.667890</td>\n",
       "      <td>3.333506</td>\n",
       "      <td>3.321751</td>\n",
       "      <td>1</td>\n",
       "    </tr>\n",
       "  </tbody>\n",
       "</table>\n",
       "<p>4171 rows × 134 columns</p>\n",
       "</div>"
      ]
     },
     "execution_count": 19,
     "metadata": {},
     "output_type": "execute_result"
    }
   ],
   "execution_count": 19
  },
  {
   "metadata": {
    "ExecuteTime": {
     "end_time": "2024-11-29T06:13:12.314209Z",
     "start_time": "2024-11-29T06:13:12.305993Z"
    }
   },
   "cell_type": "code",
   "source": [
    "# 데이터 나누기\n",
    "X = data.drop(['label'], axis=1)\n",
    "y = data['label']\n",
    "# 데이터 분할\n",
    "X_train, X_test, y_train, y_test = train_test_split(X, y, test_size=0.3, random_state=42)"
   ],
   "id": "241eada6ced93805",
   "outputs": [],
   "execution_count": 20
  },
  {
   "metadata": {},
   "cell_type": "markdown",
   "source": "### 1-1. L1 Regularization + RF (Grid)",
   "id": "d22b5a3a82470fbf"
  },
  {
   "metadata": {
    "ExecuteTime": {
     "end_time": "2024-11-29T06:13:12.319343Z",
     "start_time": "2024-11-29T06:13:12.315065Z"
    }
   },
   "cell_type": "code",
   "source": [
    "# Lasso를 사용한 특징 선택\n",
    "lasso = Lasso(max_iter=10000)\n",
    "\n",
    "# Random Forest 모델\n",
    "rf_model = RandomForestClassifier(random_state=42)\n",
    "\n",
    "# 파이프라인 구축\n",
    "pipeline = Pipeline([\n",
    "    ('feature_selection', SelectFromModel(estimator=lasso)),\n",
    "    ('random_forest', rf_model)\n",
    "])\n",
    "\n",
    "# 하이퍼파라미터 그리드 정의\n",
    "param_grid = {\n",
    "    'feature_selection__estimator__alpha': [0.001, 0.01, 0.1, 1],  # Lasso의 alpha 값\n",
    "    'random_forest__n_estimators': [50, 100, 200],  # Random Forest의 트리 개수\n",
    "    'random_forest__max_depth': [None, 10, 20, 30]  # Random Forest의 최대 깊이\n",
    "}\n",
    "# Weighted F1 스코어 사용\n",
    "f1_scorer = make_scorer(f1_score, average='weighted')\n",
    "\n",
    "grid_search = GridSearchCV(pipeline, param_grid, cv=5, scoring=f1_scorer, n_jobs=-1, verbose=1)"
   ],
   "id": "ad7443821ae97db",
   "outputs": [],
   "execution_count": 21
  },
  {
   "metadata": {
    "ExecuteTime": {
     "end_time": "2024-11-29T06:13:30.505706Z",
     "start_time": "2024-11-29T06:13:12.320419Z"
    }
   },
   "cell_type": "code",
   "source": [
    "# 모델 학습\n",
    "grid_search.fit(X_train, y_train)"
   ],
   "id": "cba019f13ec1b58d",
   "outputs": [
    {
     "name": "stdout",
     "output_type": "stream",
     "text": [
      "Fitting 5 folds for each of 48 candidates, totalling 240 fits\n"
     ]
    },
    {
     "name": "stderr",
     "output_type": "stream",
     "text": [
      "/Users/imdohyeon/miniconda3/lib/python3.7/site-packages/sklearn/model_selection/_validation.py:372: FitFailedWarning: \n",
      "60 fits failed out of a total of 240.\n",
      "The score on these train-test partitions for these parameters will be set to nan.\n",
      "If these failures are not expected, you can try to debug them by setting error_score='raise'.\n",
      "\n",
      "Below are more details about the failures:\n",
      "--------------------------------------------------------------------------------\n",
      "48 fits failed with the following error:\n",
      "Traceback (most recent call last):\n",
      "  File \"/Users/imdohyeon/miniconda3/lib/python3.7/site-packages/sklearn/model_selection/_validation.py\", line 680, in _fit_and_score\n",
      "    estimator.fit(X_train, y_train, **fit_params)\n",
      "  File \"/Users/imdohyeon/miniconda3/lib/python3.7/site-packages/sklearn/pipeline.py\", line 394, in fit\n",
      "    self._final_estimator.fit(Xt, y, **fit_params_last_step)\n",
      "  File \"/Users/imdohyeon/miniconda3/lib/python3.7/site-packages/sklearn/ensemble/_forest.py\", line 328, in fit\n",
      "    X, y, multi_output=True, accept_sparse=\"csc\", dtype=DTYPE\n",
      "  File \"/Users/imdohyeon/miniconda3/lib/python3.7/site-packages/sklearn/base.py\", line 581, in _validate_data\n",
      "    X, y = check_X_y(X, y, **check_params)\n",
      "  File \"/Users/imdohyeon/miniconda3/lib/python3.7/site-packages/sklearn/utils/validation.py\", line 976, in check_X_y\n",
      "    estimator=estimator,\n",
      "  File \"/Users/imdohyeon/miniconda3/lib/python3.7/site-packages/sklearn/utils/validation.py\", line 817, in check_array\n",
      "    % (n_features, array.shape, ensure_min_features, context)\n",
      "ValueError: Found array with 0 feature(s) (shape=(2335, 0)) while a minimum of 1 is required.\n",
      "\n",
      "--------------------------------------------------------------------------------\n",
      "12 fits failed with the following error:\n",
      "Traceback (most recent call last):\n",
      "  File \"/Users/imdohyeon/miniconda3/lib/python3.7/site-packages/sklearn/model_selection/_validation.py\", line 680, in _fit_and_score\n",
      "    estimator.fit(X_train, y_train, **fit_params)\n",
      "  File \"/Users/imdohyeon/miniconda3/lib/python3.7/site-packages/sklearn/pipeline.py\", line 394, in fit\n",
      "    self._final_estimator.fit(Xt, y, **fit_params_last_step)\n",
      "  File \"/Users/imdohyeon/miniconda3/lib/python3.7/site-packages/sklearn/ensemble/_forest.py\", line 328, in fit\n",
      "    X, y, multi_output=True, accept_sparse=\"csc\", dtype=DTYPE\n",
      "  File \"/Users/imdohyeon/miniconda3/lib/python3.7/site-packages/sklearn/base.py\", line 581, in _validate_data\n",
      "    X, y = check_X_y(X, y, **check_params)\n",
      "  File \"/Users/imdohyeon/miniconda3/lib/python3.7/site-packages/sklearn/utils/validation.py\", line 976, in check_X_y\n",
      "    estimator=estimator,\n",
      "  File \"/Users/imdohyeon/miniconda3/lib/python3.7/site-packages/sklearn/utils/validation.py\", line 817, in check_array\n",
      "    % (n_features, array.shape, ensure_min_features, context)\n",
      "ValueError: Found array with 0 feature(s) (shape=(2336, 0)) while a minimum of 1 is required.\n",
      "\n",
      "  warnings.warn(some_fits_failed_message, FitFailedWarning)\n",
      "/Users/imdohyeon/miniconda3/lib/python3.7/site-packages/sklearn/model_selection/_search.py:972: UserWarning: One or more of the test scores are non-finite: [0.8866905  0.88808302 0.88911885 0.87693681 0.87589151 0.87690638\n",
      " 0.88738147 0.88605654 0.88675934 0.88703698 0.88808302 0.88911885\n",
      " 0.86574033 0.86813385 0.86680352 0.85634892 0.85603178 0.85743573\n",
      " 0.86542083 0.86607424 0.86200817 0.86574033 0.86813385 0.86680352\n",
      " 0.68706031 0.68678629 0.68646031 0.73945057 0.73851771 0.73866569\n",
      " 0.700938   0.7002231  0.70018925 0.68751747 0.68611299 0.6874833\n",
      "        nan        nan        nan        nan        nan        nan\n",
      "        nan        nan        nan        nan        nan        nan]\n",
      "  category=UserWarning,\n"
     ]
    },
    {
     "data": {
      "text/plain": [
       "GridSearchCV(cv=5,\n",
       "             estimator=Pipeline(steps=[('feature_selection',\n",
       "                                        SelectFromModel(estimator=Lasso(max_iter=10000))),\n",
       "                                       ('random_forest',\n",
       "                                        RandomForestClassifier(random_state=42))]),\n",
       "             n_jobs=-1,\n",
       "             param_grid={'feature_selection__estimator__alpha': [0.001, 0.01,\n",
       "                                                                 0.1, 1],\n",
       "                         'random_forest__max_depth': [None, 10, 20, 30],\n",
       "                         'random_forest__n_estimators': [50, 100, 200]},\n",
       "             scoring=make_scorer(f1_score, average=weighted), verbose=1)"
      ]
     },
     "execution_count": 22,
     "metadata": {},
     "output_type": "execute_result"
    }
   ],
   "execution_count": 22
  },
  {
   "metadata": {
    "ExecuteTime": {
     "end_time": "2024-11-29T06:13:30.539311Z",
     "start_time": "2024-11-29T06:13:30.506889Z"
    }
   },
   "cell_type": "code",
   "source": [
    "# 최적 파라미터 및 성능 출력\n",
    "print(\"Best Parameters:\", grid_search.best_params_)\n",
    "print(\"Best CV Score:\", grid_search.best_score_)\n",
    "\n",
    "# 최적 모델\n",
    "best_model_rf = grid_search.best_estimator_\n",
    "\n",
    "# 테스트 세트 평가\n",
    "y_pred = grid_search.best_estimator_.predict(X_test)\n",
    "accuracy = accuracy_score(y_test, y_pred)\n",
    "f1 = f1_score(y_test, y_pred, average='weighted')\n",
    "print(f\"Test Accuracy: {accuracy:.2f}\", f\"Test F1: {f1:.2f}\")"
   ],
   "id": "a29fcbec4ad20311",
   "outputs": [
    {
     "name": "stdout",
     "output_type": "stream",
     "text": [
      "Best Parameters: {'feature_selection__estimator__alpha': 0.001, 'random_forest__max_depth': None, 'random_forest__n_estimators': 200}\n",
      "Best CV Score: 0.8891188525508511\n",
      "Test Accuracy: 0.89 Test F1: 0.89\n"
     ]
    }
   ],
   "execution_count": 23
  },
  {
   "metadata": {
    "ExecuteTime": {
     "end_time": "2024-11-29T06:13:30.597600Z",
     "start_time": "2024-11-29T06:13:30.540545Z"
    }
   },
   "cell_type": "code",
   "source": [
    "joblib.dump(best_model_rf, \"/Users/imdohyeon/Documents/PythonWorkspace/4n/model/best_l1rf_model_ver3.pkl\")\n",
    "print(\"Model saved to 'best_l1rf_model_ver3.pkl'\")"
   ],
   "id": "d6ccdacef2e400f2",
   "outputs": [
    {
     "name": "stdout",
     "output_type": "stream",
     "text": [
      "Model saved to 'best_l1rf_model_ver3.pkl'\n"
     ]
    }
   ],
   "execution_count": 24
  },
  {
   "metadata": {},
   "cell_type": "markdown",
   "source": "## 1-2. L1 Regularization + XGB(Grid)",
   "id": "1d2f56b4cb1b9938"
  },
  {
   "metadata": {
    "ExecuteTime": {
     "end_time": "2024-11-29T06:13:30.600412Z",
     "start_time": "2024-11-29T06:13:30.598402Z"
    }
   },
   "cell_type": "code",
   "source": [
    "import xgboost as xgb\n",
    "from xgboost import XGBClassifier"
   ],
   "id": "75d014015183485e",
   "outputs": [],
   "execution_count": 25
  },
  {
   "metadata": {
    "ExecuteTime": {
     "end_time": "2024-11-29T06:13:30.607141Z",
     "start_time": "2024-11-29T06:13:30.603153Z"
    }
   },
   "cell_type": "code",
   "source": [
    "# Lasso를 사용한 특징 선택\n",
    "lasso = Lasso(max_iter=10000)\n",
    "\n",
    "# XGBoost 모델\n",
    "xgb_model = XGBClassifier(\n",
    "    objective='binary:logistic',\n",
    "    use_label_encoder=False,\n",
    "    eval_metric='logloss'\n",
    ")\n",
    "\n",
    "# 파이프라인\n",
    "pipeline = Pipeline([\n",
    "    ('feature_selection', SelectFromModel(estimator=lasso)),\n",
    "    ('xgboost', xgb_model)\n",
    "])\n",
    "\n",
    "# Grid Search 설정\n",
    "param_grid = {\n",
    "    'feature_selection__estimator__alpha': [0.001, 0.01, 0.1],\n",
    "    'xgboost__n_estimators': [50, 100, 200],\n",
    "    'xgboost__max_depth': [3, 5, 7],\n",
    "    'xgboost__learning_rate': [0.01, 0.1, 0.3]\n",
    "}\n",
    "\n",
    "scoring = {\n",
    "    'accuracy': make_scorer(accuracy_score),\n",
    "    'f1_score': make_scorer(f1_score, average='weighted')\n",
    "}\n",
    "\n",
    "grid_search_xgb = GridSearchCV(\n",
    "    pipeline,\n",
    "    param_grid,\n",
    "    cv=5,\n",
    "    scoring=scoring,\n",
    "    refit='accuracy',\n",
    "    verbose=1,\n",
    "    n_jobs=-1\n",
    ")"
   ],
   "id": "20c7bae9894a5ceb",
   "outputs": [],
   "execution_count": 26
  },
  {
   "metadata": {
    "ExecuteTime": {
     "end_time": "2024-11-29T06:14:17.805214Z",
     "start_time": "2024-11-29T06:13:30.608040Z"
    }
   },
   "cell_type": "code",
   "source": [
    "# 모델 학습\n",
    "grid_search_xgb.fit(X_train, y_train)"
   ],
   "id": "9cd48079bb8e2d7d",
   "outputs": [
    {
     "name": "stdout",
     "output_type": "stream",
     "text": [
      "Fitting 5 folds for each of 81 candidates, totalling 405 fits\n"
     ]
    },
    {
     "data": {
      "text/plain": [
       "GridSearchCV(cv=5,\n",
       "             estimator=Pipeline(steps=[('feature_selection',\n",
       "                                        SelectFromModel(estimator=Lasso(max_iter=10000))),\n",
       "                                       ('xgboost',\n",
       "                                        XGBClassifier(base_score=None,\n",
       "                                                      booster=None,\n",
       "                                                      callbacks=None,\n",
       "                                                      colsample_bylevel=None,\n",
       "                                                      colsample_bynode=None,\n",
       "                                                      colsample_bytree=None,\n",
       "                                                      early_stopping_rounds=None,\n",
       "                                                      enable_categorical=False,\n",
       "                                                      eval_metric='logloss',\n",
       "                                                      gamma=None, gpu_id=None,\n",
       "                                                      gr...\n",
       "                                                      random_state=None,\n",
       "                                                      reg_alpha=None,\n",
       "                                                      reg_lambda=None, ...))]),\n",
       "             n_jobs=-1,\n",
       "             param_grid={'feature_selection__estimator__alpha': [0.001, 0.01,\n",
       "                                                                 0.1],\n",
       "                         'xgboost__learning_rate': [0.01, 0.1, 0.3],\n",
       "                         'xgboost__max_depth': [3, 5, 7],\n",
       "                         'xgboost__n_estimators': [50, 100, 200]},\n",
       "             refit='accuracy',\n",
       "             scoring={'accuracy': make_scorer(accuracy_score),\n",
       "                      'f1_score': make_scorer(f1_score, average=weighted)},\n",
       "             verbose=1)"
      ]
     },
     "execution_count": 27,
     "metadata": {},
     "output_type": "execute_result"
    }
   ],
   "execution_count": 27
  },
  {
   "metadata": {
    "ExecuteTime": {
     "end_time": "2024-11-29T06:14:17.815305Z",
     "start_time": "2024-11-29T06:14:17.806315Z"
    }
   },
   "cell_type": "code",
   "source": [
    "# 최적 파라미터 출력\n",
    "print(\"Best Parameters:\", grid_search_xgb.best_params_)\n",
    "\n",
    "# 테스트 데이터 평가\n",
    "y_pred = grid_search_xgb.best_estimator_.predict(X_test)\n",
    "print(f\"Test Accuracy: {accuracy_score(y_test, y_pred):.2f}\")\n",
    "print(f\"Test F1-Score: {f1_score(y_test, y_pred, average='weighted'):.2f}\")"
   ],
   "id": "2c3b8e4a71405b8f",
   "outputs": [
    {
     "name": "stdout",
     "output_type": "stream",
     "text": [
      "Best Parameters: {'feature_selection__estimator__alpha': 0.001, 'xgboost__learning_rate': 0.1, 'xgboost__max_depth': 7, 'xgboost__n_estimators': 200}\n",
      "Test Accuracy: 0.91\n",
      "Test F1-Score: 0.91\n"
     ]
    }
   ],
   "execution_count": 28
  },
  {
   "metadata": {
    "ExecuteTime": {
     "end_time": "2024-11-29T06:14:17.822359Z",
     "start_time": "2024-11-29T06:14:17.816694Z"
    }
   },
   "cell_type": "code",
   "source": [
    "# 최적 모델 저장\n",
    "joblib.dump(grid_search_xgb.best_estimator_, \"/Users/imdohyeon/Documents/PythonWorkspace/4n/model/best_l1xgb_model_ver3.pkl\")\n",
    "print(\"Model saved to 'best_l1xgb_model_ver3.pkl'\")"
   ],
   "id": "65cc5e77759d684f",
   "outputs": [
    {
     "name": "stdout",
     "output_type": "stream",
     "text": [
      "Model saved to 'best_l1xgb_model_ver3.pkl'\n"
     ]
    }
   ],
   "execution_count": 29
  },
  {
   "metadata": {},
   "cell_type": "markdown",
   "source": "# 2. MCI vs NC",
   "id": "fc0b617854f86601"
  },
  {
   "metadata": {},
   "cell_type": "markdown",
   "source": "## 2-1. L1 + RF(Grid)",
   "id": "90d04da49a2114a6"
  },
  {
   "metadata": {
    "ExecuteTime": {
     "end_time": "2024-11-29T06:19:30.683804Z",
     "start_time": "2024-11-29T06:19:30.594708Z"
    }
   },
   "cell_type": "code",
   "source": [
    "data_mci_dir = '/Users/imdohyeon/Documents/PythonWorkspace/4n/preprocessSeg/extracted/ver3(binary without CSP features)/features_binary_mci_nc.csv'\n",
    "data_mci = pd.read_csv(data_mci_dir)"
   ],
   "id": "86120d63215c4cc0",
   "outputs": [],
   "execution_count": 31
  },
  {
   "metadata": {
    "ExecuteTime": {
     "end_time": "2024-11-29T06:19:30.740053Z",
     "start_time": "2024-11-29T06:19:30.732746Z"
    }
   },
   "cell_type": "code",
   "source": [
    "data_mci = data_mci.sample(frac=1).reset_index(drop=True)\n",
    "# 데이터 나누기\n",
    "X_mci = data_mci.drop(['label'], axis=1)\n",
    "y_mci = data_mci['label']\n",
    "# 데이터 분할\n",
    "X_train_mci, X_test_mci, y_train_mci, y_test_mci = train_test_split(X_mci, y_mci, test_size=0.3, random_state=42)"
   ],
   "id": "6612cbb301792d94",
   "outputs": [],
   "execution_count": 32
  },
  {
   "metadata": {
    "ExecuteTime": {
     "end_time": "2024-11-29T06:19:30.842843Z",
     "start_time": "2024-11-29T06:19:30.838845Z"
    }
   },
   "cell_type": "code",
   "source": [
    "# Lasso를 사용한 특징 선택\n",
    "lasso = Lasso(max_iter=10000)\n",
    "\n",
    "# Random Forest 모델\n",
    "rf_model = RandomForestClassifier(random_state=42)\n",
    "\n",
    "# 파이프라인 구축\n",
    "pipeline = Pipeline([\n",
    "    ('feature_selection', SelectFromModel(estimator=lasso)),\n",
    "    ('random_forest', rf_model)\n",
    "])\n",
    "\n",
    "# 하이퍼파라미터 그리드 정의\n",
    "param_grid = {\n",
    "    'feature_selection__estimator__alpha': [0.001, 0.01, 0.1, 1],  # Lasso의 alpha 값\n",
    "    'random_forest__n_estimators': [50, 100, 200],  # Random Forest의 트리 개수\n",
    "    'random_forest__max_depth': [None, 10, 20, 30]  # Random Forest의 최대 깊이\n",
    "}\n",
    "# Weighted F1 스코어 사용\n",
    "f1_scorer = make_scorer(f1_score, average='weighted')\n",
    "\n",
    "grid_search_rf_mci = GridSearchCV(pipeline, param_grid, cv=5, scoring=f1_scorer, n_jobs=-1, verbose=1)"
   ],
   "id": "9db153eb93324bd1",
   "outputs": [],
   "execution_count": 33
  },
  {
   "metadata": {
    "ExecuteTime": {
     "end_time": "2024-11-29T06:19:49.297429Z",
     "start_time": "2024-11-29T06:19:30.962931Z"
    }
   },
   "cell_type": "code",
   "source": [
    "# 모델 학습\n",
    "grid_search_rf_mci.fit(X_train_mci, y_train_mci)"
   ],
   "id": "420b515fe3fa864e",
   "outputs": [
    {
     "name": "stdout",
     "output_type": "stream",
     "text": [
      "Fitting 5 folds for each of 48 candidates, totalling 240 fits\n"
     ]
    },
    {
     "name": "stderr",
     "output_type": "stream",
     "text": [
      "/Users/imdohyeon/miniconda3/lib/python3.7/site-packages/sklearn/model_selection/_validation.py:372: FitFailedWarning: \n",
      "60 fits failed out of a total of 240.\n",
      "The score on these train-test partitions for these parameters will be set to nan.\n",
      "If these failures are not expected, you can try to debug them by setting error_score='raise'.\n",
      "\n",
      "Below are more details about the failures:\n",
      "--------------------------------------------------------------------------------\n",
      "24 fits failed with the following error:\n",
      "Traceback (most recent call last):\n",
      "  File \"/Users/imdohyeon/miniconda3/lib/python3.7/site-packages/sklearn/model_selection/_validation.py\", line 680, in _fit_and_score\n",
      "    estimator.fit(X_train, y_train, **fit_params)\n",
      "  File \"/Users/imdohyeon/miniconda3/lib/python3.7/site-packages/sklearn/pipeline.py\", line 394, in fit\n",
      "    self._final_estimator.fit(Xt, y, **fit_params_last_step)\n",
      "  File \"/Users/imdohyeon/miniconda3/lib/python3.7/site-packages/sklearn/ensemble/_forest.py\", line 328, in fit\n",
      "    X, y, multi_output=True, accept_sparse=\"csc\", dtype=DTYPE\n",
      "  File \"/Users/imdohyeon/miniconda3/lib/python3.7/site-packages/sklearn/base.py\", line 581, in _validate_data\n",
      "    X, y = check_X_y(X, y, **check_params)\n",
      "  File \"/Users/imdohyeon/miniconda3/lib/python3.7/site-packages/sklearn/utils/validation.py\", line 976, in check_X_y\n",
      "    estimator=estimator,\n",
      "  File \"/Users/imdohyeon/miniconda3/lib/python3.7/site-packages/sklearn/utils/validation.py\", line 817, in check_array\n",
      "    % (n_features, array.shape, ensure_min_features, context)\n",
      "ValueError: Found array with 0 feature(s) (shape=(2073, 0)) while a minimum of 1 is required.\n",
      "\n",
      "--------------------------------------------------------------------------------\n",
      "36 fits failed with the following error:\n",
      "Traceback (most recent call last):\n",
      "  File \"/Users/imdohyeon/miniconda3/lib/python3.7/site-packages/sklearn/model_selection/_validation.py\", line 680, in _fit_and_score\n",
      "    estimator.fit(X_train, y_train, **fit_params)\n",
      "  File \"/Users/imdohyeon/miniconda3/lib/python3.7/site-packages/sklearn/pipeline.py\", line 394, in fit\n",
      "    self._final_estimator.fit(Xt, y, **fit_params_last_step)\n",
      "  File \"/Users/imdohyeon/miniconda3/lib/python3.7/site-packages/sklearn/ensemble/_forest.py\", line 328, in fit\n",
      "    X, y, multi_output=True, accept_sparse=\"csc\", dtype=DTYPE\n",
      "  File \"/Users/imdohyeon/miniconda3/lib/python3.7/site-packages/sklearn/base.py\", line 581, in _validate_data\n",
      "    X, y = check_X_y(X, y, **check_params)\n",
      "  File \"/Users/imdohyeon/miniconda3/lib/python3.7/site-packages/sklearn/utils/validation.py\", line 976, in check_X_y\n",
      "    estimator=estimator,\n",
      "  File \"/Users/imdohyeon/miniconda3/lib/python3.7/site-packages/sklearn/utils/validation.py\", line 817, in check_array\n",
      "    % (n_features, array.shape, ensure_min_features, context)\n",
      "ValueError: Found array with 0 feature(s) (shape=(2074, 0)) while a minimum of 1 is required.\n",
      "\n",
      "  warnings.warn(some_fits_failed_message, FitFailedWarning)\n",
      "/Users/imdohyeon/miniconda3/lib/python3.7/site-packages/sklearn/model_selection/_search.py:972: UserWarning: One or more of the test scores are non-finite: [0.92442943 0.92790174 0.9348465  0.91343167 0.91768149 0.91850215\n",
      " 0.92362729 0.92865223 0.93484737 0.92442943 0.92790174 0.9348465\n",
      " 0.91340596 0.91772805 0.92166036 0.90318154 0.90787347 0.90753371\n",
      " 0.91423194 0.91657587 0.92128073 0.91340596 0.91772805 0.92166036\n",
      " 0.71528358 0.71764281 0.71849308 0.73412166 0.73470967 0.7369082\n",
      " 0.7211035  0.71758573 0.71821454 0.71521902 0.71877763 0.71891702\n",
      "        nan        nan        nan        nan        nan        nan\n",
      "        nan        nan        nan        nan        nan        nan]\n",
      "  category=UserWarning,\n"
     ]
    },
    {
     "data": {
      "text/plain": [
       "GridSearchCV(cv=5,\n",
       "             estimator=Pipeline(steps=[('feature_selection',\n",
       "                                        SelectFromModel(estimator=Lasso(max_iter=10000))),\n",
       "                                       ('random_forest',\n",
       "                                        RandomForestClassifier(random_state=42))]),\n",
       "             n_jobs=-1,\n",
       "             param_grid={'feature_selection__estimator__alpha': [0.001, 0.01,\n",
       "                                                                 0.1, 1],\n",
       "                         'random_forest__max_depth': [None, 10, 20, 30],\n",
       "                         'random_forest__n_estimators': [50, 100, 200]},\n",
       "             scoring=make_scorer(f1_score, average=weighted), verbose=1)"
      ]
     },
     "execution_count": 34,
     "metadata": {},
     "output_type": "execute_result"
    }
   ],
   "execution_count": 34
  },
  {
   "metadata": {
    "ExecuteTime": {
     "end_time": "2024-11-29T06:19:49.378940Z",
     "start_time": "2024-11-29T06:19:49.298982Z"
    }
   },
   "cell_type": "code",
   "source": [
    "# 최적 파라미터 및 성능 출력\n",
    "print(\"Best Parameters:\", grid_search_rf_mci.best_params_)\n",
    "print(\"Best CV Score:\", grid_search_rf_mci.best_score_)\n",
    "\n",
    "# 최적 모델 저장\n",
    "best_model_rf_mci = grid_search_rf_mci.best_estimator_\n",
    "joblib.dump(best_model_rf_mci, \"/Users/imdohyeon/Documents/PythonWorkspace/4n/model/best_l1rf_model_ver3_mci.pkl\")\n",
    "print(\"Model saved to 'best_l1rf_model_ver3_mci.pkl'\")\n",
    "\n",
    "# 테스트 세트 평가\n",
    "y_pred_mci = grid_search_rf_mci.best_estimator_.predict(X_test_mci)\n",
    "accuracy = accuracy_score(y_test_mci, y_pred_mci)\n",
    "f1 = f1_score(y_test_mci, y_pred_mci, average='weighted')\n",
    "print(f\"Test Accuracy: {accuracy:.2f}\", f\"Test F1: {f1:.2f}\")"
   ],
   "id": "93260c567b20ed5d",
   "outputs": [
    {
     "name": "stdout",
     "output_type": "stream",
     "text": [
      "Best Parameters: {'feature_selection__estimator__alpha': 0.001, 'random_forest__max_depth': 20, 'random_forest__n_estimators': 200}\n",
      "Best CV Score: 0.9348473670161761\n",
      "Model saved to 'best_l1rf_model_ver3_mci.pkl'\n",
      "Test Accuracy: 0.94 Test F1: 0.94\n"
     ]
    }
   ],
   "execution_count": 35
  },
  {
   "metadata": {},
   "cell_type": "markdown",
   "source": "## 2-2. L1 + XGB(Grid)",
   "id": "3f65f7d936c8aa13"
  },
  {
   "metadata": {
    "ExecuteTime": {
     "end_time": "2024-11-29T06:20:42.579924Z",
     "start_time": "2024-11-29T06:20:42.553060Z"
    }
   },
   "cell_type": "code",
   "source": [
    "# Lasso 모델 설정\n",
    "lasso = Lasso(alpha=0.01, max_iter=10000)\n",
    "\n",
    "# SelectFromModel 학습\n",
    "feature_selector = SelectFromModel(estimator=lasso)\n",
    "feature_selector.fit(X_train_mci, y_train_mci)  # Lasso 모델 학습"
   ],
   "id": "a47c5580591f71ff",
   "outputs": [
    {
     "data": {
      "text/plain": [
       "SelectFromModel(estimator=Lasso(alpha=0.01, max_iter=10000))"
      ]
     },
     "execution_count": 43,
     "metadata": {},
     "output_type": "execute_result"
    }
   ],
   "execution_count": 43
  },
  {
   "metadata": {
    "ExecuteTime": {
     "end_time": "2024-11-29T06:20:43.375689Z",
     "start_time": "2024-11-29T06:20:43.369463Z"
    }
   },
   "cell_type": "code",
   "source": [
    "# XGBoost 모델\n",
    "xgb_model = XGBClassifier(\n",
    "    objective='binary:logistic',\n",
    "    use_label_encoder=False,\n",
    "    eval_metric='logloss'\n",
    ")\n",
    "\n",
    "# 파이프라인\n",
    "pipeline = Pipeline([\n",
    "    ('feature_selection', SelectFromModel(estimator=lasso)),\n",
    "    ('xgboost', xgb_model)\n",
    "])\n",
    "\n",
    "# Grid Search 설정\n",
    "param_grid = {\n",
    "    'feature_selection__estimator__alpha': [0.001, 0.01, 0.1],\n",
    "    'xgboost__n_estimators': [50, 100, 200],\n",
    "    'xgboost__max_depth': [3, 5, 7],\n",
    "    'xgboost__learning_rate': [0.01, 0.1, 0.3]\n",
    "}\n",
    "\n",
    "scoring = {\n",
    "    'accuracy': make_scorer(accuracy_score),\n",
    "    'f1_score': make_scorer(f1_score, average='weighted')\n",
    "}\n",
    "\n",
    "grid_search_xgb_mci = GridSearchCV(\n",
    "    pipeline,\n",
    "    param_grid,\n",
    "    cv=5,\n",
    "    scoring=scoring,\n",
    "    refit='accuracy',\n",
    "    verbose=1,\n",
    "    n_jobs=-1\n",
    ")"
   ],
   "id": "4c5d64f462ba8a16",
   "outputs": [],
   "execution_count": 44
  },
  {
   "metadata": {
    "ExecuteTime": {
     "end_time": "2024-11-29T06:21:34.181193Z",
     "start_time": "2024-11-29T06:20:43.798021Z"
    }
   },
   "cell_type": "code",
   "source": [
    "# 모델 학습\n",
    "grid_search_xgb_mci.fit(X_train_mci, y_train_mci)"
   ],
   "id": "319a1f90b7ad6cf7",
   "outputs": [
    {
     "name": "stdout",
     "output_type": "stream",
     "text": [
      "Fitting 5 folds for each of 81 candidates, totalling 405 fits\n"
     ]
    },
    {
     "data": {
      "text/plain": [
       "GridSearchCV(cv=5,\n",
       "             estimator=Pipeline(steps=[('feature_selection',\n",
       "                                        SelectFromModel(estimator=Lasso(alpha=0.01,\n",
       "                                                                        max_iter=10000))),\n",
       "                                       ('xgboost',\n",
       "                                        XGBClassifier(base_score=None,\n",
       "                                                      booster=None,\n",
       "                                                      callbacks=None,\n",
       "                                                      colsample_bylevel=None,\n",
       "                                                      colsample_bynode=None,\n",
       "                                                      colsample_bytree=None,\n",
       "                                                      early_stopping_rounds=None,\n",
       "                                                      enable_categorical=False,\n",
       "                                                      eval_metric='logloss',\n",
       "                                                      gamma=None, gpu...\n",
       "                                                      random_state=None,\n",
       "                                                      reg_alpha=None,\n",
       "                                                      reg_lambda=None, ...))]),\n",
       "             n_jobs=-1,\n",
       "             param_grid={'feature_selection__estimator__alpha': [0.001, 0.01,\n",
       "                                                                 0.1],\n",
       "                         'xgboost__learning_rate': [0.01, 0.1, 0.3],\n",
       "                         'xgboost__max_depth': [3, 5, 7],\n",
       "                         'xgboost__n_estimators': [50, 100, 200]},\n",
       "             refit='accuracy',\n",
       "             scoring={'accuracy': make_scorer(accuracy_score),\n",
       "                      'f1_score': make_scorer(f1_score, average=weighted)},\n",
       "             verbose=1)"
      ]
     },
     "execution_count": 45,
     "metadata": {},
     "output_type": "execute_result"
    }
   ],
   "execution_count": 45
  },
  {
   "metadata": {
    "ExecuteTime": {
     "end_time": "2024-11-29T06:21:34.191947Z",
     "start_time": "2024-11-29T06:21:34.183052Z"
    }
   },
   "cell_type": "code",
   "source": [
    "# 최적 파라미터 출력\n",
    "print(\"Best Parameters:\", grid_search_xgb_mci.best_params_)\n",
    "\n",
    "# 테스트 데이터 평가\n",
    "y_pred_mci = grid_search_xgb_mci.best_estimator_.predict(X_test_mci)\n",
    "print(f\"Test Accuracy: {accuracy_score(y_test_mci, y_pred_mci):.2f}\")\n",
    "print(f\"Test F1-Score: {f1_score(y_test_mci, y_pred_mci, average='weighted'):.2f}\")"
   ],
   "id": "7c727c82b59012e3",
   "outputs": [
    {
     "name": "stdout",
     "output_type": "stream",
     "text": [
      "Best Parameters: {'feature_selection__estimator__alpha': 0.001, 'xgboost__learning_rate': 0.3, 'xgboost__max_depth': 5, 'xgboost__n_estimators': 100}\n",
      "Test Accuracy: 0.95\n",
      "Test F1-Score: 0.95\n"
     ]
    }
   ],
   "execution_count": 46
  },
  {
   "metadata": {
    "ExecuteTime": {
     "end_time": "2024-11-29T06:21:34.197745Z",
     "start_time": "2024-11-29T06:21:34.192813Z"
    }
   },
   "cell_type": "code",
   "source": [
    "# 최적 모델 저장\n",
    "joblib.dump(grid_search_xgb_mci.best_estimator_, \"/Users/imdohyeon/Documents/PythonWorkspace/4n/model/best_l1xgb_model_ver3_mci.pkl\")\n",
    "print(\"Model saved to 'best_l1xgb_logloss_model_ver3_mci.pkl'\")"
   ],
   "id": "3034b42d09b86489",
   "outputs": [
    {
     "name": "stdout",
     "output_type": "stream",
     "text": [
      "Model saved to 'best_l1xgb_logloss_model_ver3_mci.pkl'\n"
     ]
    }
   ],
   "execution_count": 47
  },
  {
   "metadata": {},
   "cell_type": "markdown",
   "source": "# 3. 나머지 절반 NC 데이터 테스트",
   "id": "aae26d8383892dfd"
  },
  {
   "metadata": {
    "ExecuteTime": {
     "end_time": "2024-11-29T06:22:32.219388Z",
     "start_time": "2024-11-29T06:22:32.216536Z"
    }
   },
   "cell_type": "code",
   "source": "new_data_dir = '/Users/imdohyeon/Documents/PythonWorkspace/4n/preprocessSeg/extracted/ver3(binary without CSP features)/features_nc2.csv'",
   "id": "61b7cf210b7c7990",
   "outputs": [],
   "execution_count": 50
  },
  {
   "metadata": {
    "ExecuteTime": {
     "end_time": "2024-11-29T06:22:32.570236Z",
     "start_time": "2024-11-29T06:22:32.518078Z"
    }
   },
   "cell_type": "code",
   "source": [
    "new_data = pd.read_csv(new_data_dir)\n",
    "new_data_X = new_data.drop(['label'], axis=1)\n",
    "new_data_y = new_data['label']"
   ],
   "id": "1d0d42623f2274b5",
   "outputs": [],
   "execution_count": 51
  },
  {
   "metadata": {
    "ExecuteTime": {
     "end_time": "2024-11-29T06:22:33.042496Z",
     "start_time": "2024-11-29T06:22:33.001249Z"
    }
   },
   "cell_type": "code",
   "source": [
    "# AD vs NC\n",
    "y_pred_rf = grid_search.best_estimator_.predict(new_data_X)\n",
    "y_pred_xgb = grid_search_xgb.best_estimator_.predict(new_data_X)"
   ],
   "id": "accb037731f8833",
   "outputs": [],
   "execution_count": 52
  },
  {
   "metadata": {
    "ExecuteTime": {
     "end_time": "2024-11-29T06:22:33.186454Z",
     "start_time": "2024-11-29T06:22:33.179893Z"
    }
   },
   "cell_type": "code",
   "source": [
    "# AD vs NC 결과 확인\n",
    "nc2_acc_rf = accuracy_score(new_data_y, y_pred_rf)\n",
    "nc2_f1_rf = f1_score(new_data_y, y_pred_rf, average='weighted')\n",
    "\n",
    "nc2_acc_xgb = accuracy_score(new_data_y, y_pred_xgb)\n",
    "nc2_f1_xgb = f1_score(new_data_y, y_pred_xgb, average='weighted')\n",
    "\n",
    "print(f\"rf. Test Accuracy: {nc2_acc_rf:.2f}\", f\"Test F1: {nc2_f1_rf:.2f}\")\n",
    "print(f\"xgb. Test Accuracy: {nc2_acc_xgb:.2f}\", f\"Test F1: {nc2_f1_xgb:.2f}\")"
   ],
   "id": "4f9b49d25b30ca72",
   "outputs": [
    {
     "name": "stdout",
     "output_type": "stream",
     "text": [
      "rf. Test Accuracy: 0.85 Test F1: 0.92\n",
      "xgb. Test Accuracy: 0.82 Test F1: 0.90\n"
     ]
    }
   ],
   "execution_count": 53
  },
  {
   "metadata": {
    "ExecuteTime": {
     "end_time": "2024-11-29T06:22:33.363629Z",
     "start_time": "2024-11-29T06:22:33.325113Z"
    }
   },
   "cell_type": "code",
   "source": [
    "# MCI vs NC\n",
    "y_pred_rf_mci = grid_search_rf_mci.predict(new_data_X)\n",
    "y_pred_xgb_mci = grid_search_xgb_mci.predict(new_data_X)"
   ],
   "id": "de64d54f85fe389a",
   "outputs": [],
   "execution_count": 54
  },
  {
   "metadata": {
    "ExecuteTime": {
     "end_time": "2024-11-29T06:22:33.511329Z",
     "start_time": "2024-11-29T06:22:33.504732Z"
    }
   },
   "cell_type": "code",
   "source": [
    "# AD vs MCI 결과 확인\n",
    "nc2_acc_rf_mci = accuracy_score(new_data_y, y_pred_rf_mci)\n",
    "nc2_f1_rf_mci = f1_score(new_data_y, y_pred_rf_mci, average='weighted')\n",
    "\n",
    "nc2_acc_xgb_mci = accuracy_score(new_data_y, y_pred_xgb_mci)\n",
    "nc2_f1_xgb_mci = f1_score(new_data_y, y_pred_xgb_mci, average='weighted')\n",
    "\n",
    "print(f\"rf. Test Accuracy: {nc2_acc_rf_mci:.2f}\", f\"Test F1: {nc2_f1_rf_mci:.2f}\")\n",
    "print(f\"xgb. Test Accuracy: {nc2_acc_xgb_mci :.2f}\", f\"Test F1: {nc2_f1_xgb_mci:.2f}\")"
   ],
   "id": "5e6d9b1f0e3d3c7d",
   "outputs": [
    {
     "name": "stdout",
     "output_type": "stream",
     "text": [
      "rf. Test Accuracy: 0.70 Test F1: 0.82\n",
      "xgb. Test Accuracy: 0.76 Test F1: 0.86\n"
     ]
    }
   ],
   "execution_count": 55
  },
  {
   "metadata": {},
   "cell_type": "code",
   "outputs": [],
   "execution_count": null,
   "source": "",
   "id": "e755b5feeabfb736"
  }
 ],
 "metadata": {
  "kernelspec": {
   "display_name": "Python 3",
   "language": "python",
   "name": "python3"
  },
  "language_info": {
   "codemirror_mode": {
    "name": "ipython",
    "version": 2
   },
   "file_extension": ".py",
   "mimetype": "text/x-python",
   "name": "python",
   "nbconvert_exporter": "python",
   "pygments_lexer": "ipython2",
   "version": "2.7.6"
  }
 },
 "nbformat": 4,
 "nbformat_minor": 5
}
